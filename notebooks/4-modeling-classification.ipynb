{
 "cells": [
  {
   "cell_type": "code",
   "execution_count": 1,
   "id": "7ef0c55e-7a64-4b5e-8f51-95fb156eb371",
   "metadata": {
    "execution": {
     "iopub.execute_input": "2025-04-25T02:15:50.454616Z",
     "iopub.status.busy": "2025-04-25T02:15:50.454159Z",
     "iopub.status.idle": "2025-04-25T02:15:51.298302Z",
     "shell.execute_reply": "2025-04-25T02:15:51.296757Z",
     "shell.execute_reply.started": "2025-04-25T02:15:50.454586Z"
    }
   },
   "outputs": [],
   "source": [
    "import os\n",
    "import sys\n",
    "from datetime import datetime\n",
    "\n",
    "import yaml\n",
    "import pandas as pd\n",
    "\n",
    "\n",
    "os.chdir('..')\n",
    "sys.path.append(os.getcwd())\n",
    "\n",
    "# Initial configurations\n",
    "config_filepath = 'config.yml'\n",
    "\n",
    "with open(config_filepath, 'r') as f:\n",
    "    config = yaml.safe_load(f)"
   ]
  },
  {
   "cell_type": "markdown",
   "id": "6cb3c3d3-fa0c-4fcb-81b7-2a57cfc3ee39",
   "metadata": {},
   "source": [
    "# Modeling"
   ]
  },
  {
   "cell_type": "code",
   "execution_count": 2,
   "id": "cb241301-4f79-4863-b65a-759621689e14",
   "metadata": {
    "execution": {
     "iopub.execute_input": "2025-04-25T02:15:51.300051Z",
     "iopub.status.busy": "2025-04-25T02:15:51.299568Z",
     "iopub.status.idle": "2025-04-25T02:15:51.314440Z",
     "shell.execute_reply": "2025-04-25T02:15:51.313128Z",
     "shell.execute_reply.started": "2025-04-25T02:15:51.300013Z"
    }
   },
   "outputs": [],
   "source": [
    "abt = pd.read_csv(config['filepaths']['abt'])"
   ]
  },
  {
   "cell_type": "code",
   "execution_count": 3,
   "id": "b16ba3b8-733f-45e2-ade2-b793052575a9",
   "metadata": {
    "execution": {
     "iopub.execute_input": "2025-04-25T02:15:51.315987Z",
     "iopub.status.busy": "2025-04-25T02:15:51.315665Z",
     "iopub.status.idle": "2025-04-25T02:15:51.339983Z",
     "shell.execute_reply": "2025-04-25T02:15:51.338438Z",
     "shell.execute_reply.started": "2025-04-25T02:15:51.315954Z"
    }
   },
   "outputs": [
    {
     "data": {
      "text/html": [
       "<div>\n",
       "<style scoped>\n",
       "    .dataframe tbody tr th:only-of-type {\n",
       "        vertical-align: middle;\n",
       "    }\n",
       "\n",
       "    .dataframe tbody tr th {\n",
       "        vertical-align: top;\n",
       "    }\n",
       "\n",
       "    .dataframe thead th {\n",
       "        text-align: right;\n",
       "    }\n",
       "</style>\n",
       "<table border=\"1\" class=\"dataframe\">\n",
       "  <thead>\n",
       "    <tr style=\"text-align: right;\">\n",
       "      <th></th>\n",
       "      <th>Age</th>\n",
       "      <th>SibSp</th>\n",
       "      <th>Parch</th>\n",
       "      <th>Fare</th>\n",
       "      <th>Survived</th>\n",
       "      <th>Pclass</th>\n",
       "      <th>Sex</th>\n",
       "      <th>Embarked</th>\n",
       "    </tr>\n",
       "  </thead>\n",
       "  <tbody>\n",
       "    <tr>\n",
       "      <th>0</th>\n",
       "      <td>22</td>\n",
       "      <td>1</td>\n",
       "      <td>0</td>\n",
       "      <td>7.250</td>\n",
       "      <td>0</td>\n",
       "      <td>3</td>\n",
       "      <td>male</td>\n",
       "      <td>S</td>\n",
       "    </tr>\n",
       "    <tr>\n",
       "      <th>1</th>\n",
       "      <td>38</td>\n",
       "      <td>1</td>\n",
       "      <td>0</td>\n",
       "      <td>50.000</td>\n",
       "      <td>1</td>\n",
       "      <td>1</td>\n",
       "      <td>female</td>\n",
       "      <td>C</td>\n",
       "    </tr>\n",
       "    <tr>\n",
       "      <th>2</th>\n",
       "      <td>26</td>\n",
       "      <td>0</td>\n",
       "      <td>0</td>\n",
       "      <td>7.925</td>\n",
       "      <td>1</td>\n",
       "      <td>3</td>\n",
       "      <td>female</td>\n",
       "      <td>S</td>\n",
       "    </tr>\n",
       "    <tr>\n",
       "      <th>3</th>\n",
       "      <td>35</td>\n",
       "      <td>1</td>\n",
       "      <td>0</td>\n",
       "      <td>50.000</td>\n",
       "      <td>1</td>\n",
       "      <td>1</td>\n",
       "      <td>female</td>\n",
       "      <td>S</td>\n",
       "    </tr>\n",
       "    <tr>\n",
       "      <th>4</th>\n",
       "      <td>35</td>\n",
       "      <td>0</td>\n",
       "      <td>0</td>\n",
       "      <td>8.050</td>\n",
       "      <td>0</td>\n",
       "      <td>3</td>\n",
       "      <td>male</td>\n",
       "      <td>S</td>\n",
       "    </tr>\n",
       "    <tr>\n",
       "      <th>...</th>\n",
       "      <td>...</td>\n",
       "      <td>...</td>\n",
       "      <td>...</td>\n",
       "      <td>...</td>\n",
       "      <td>...</td>\n",
       "      <td>...</td>\n",
       "      <td>...</td>\n",
       "      <td>...</td>\n",
       "    </tr>\n",
       "    <tr>\n",
       "      <th>709</th>\n",
       "      <td>39</td>\n",
       "      <td>0</td>\n",
       "      <td>5</td>\n",
       "      <td>29.125</td>\n",
       "      <td>0</td>\n",
       "      <td>3</td>\n",
       "      <td>female</td>\n",
       "      <td>Q</td>\n",
       "    </tr>\n",
       "    <tr>\n",
       "      <th>710</th>\n",
       "      <td>27</td>\n",
       "      <td>0</td>\n",
       "      <td>0</td>\n",
       "      <td>13.000</td>\n",
       "      <td>0</td>\n",
       "      <td>2</td>\n",
       "      <td>male</td>\n",
       "      <td>S</td>\n",
       "    </tr>\n",
       "    <tr>\n",
       "      <th>711</th>\n",
       "      <td>19</td>\n",
       "      <td>0</td>\n",
       "      <td>0</td>\n",
       "      <td>30.000</td>\n",
       "      <td>1</td>\n",
       "      <td>1</td>\n",
       "      <td>female</td>\n",
       "      <td>S</td>\n",
       "    </tr>\n",
       "    <tr>\n",
       "      <th>712</th>\n",
       "      <td>26</td>\n",
       "      <td>0</td>\n",
       "      <td>0</td>\n",
       "      <td>30.000</td>\n",
       "      <td>1</td>\n",
       "      <td>1</td>\n",
       "      <td>male</td>\n",
       "      <td>C</td>\n",
       "    </tr>\n",
       "    <tr>\n",
       "      <th>713</th>\n",
       "      <td>32</td>\n",
       "      <td>0</td>\n",
       "      <td>0</td>\n",
       "      <td>7.750</td>\n",
       "      <td>0</td>\n",
       "      <td>3</td>\n",
       "      <td>male</td>\n",
       "      <td>Q</td>\n",
       "    </tr>\n",
       "  </tbody>\n",
       "</table>\n",
       "<p>714 rows × 8 columns</p>\n",
       "</div>"
      ],
      "text/plain": [
       "     Age  SibSp  Parch    Fare  Survived  Pclass     Sex Embarked\n",
       "0     22      1      0   7.250         0       3    male        S\n",
       "1     38      1      0  50.000         1       1  female        C\n",
       "2     26      0      0   7.925         1       3  female        S\n",
       "3     35      1      0  50.000         1       1  female        S\n",
       "4     35      0      0   8.050         0       3    male        S\n",
       "..   ...    ...    ...     ...       ...     ...     ...      ...\n",
       "709   39      0      5  29.125         0       3  female        Q\n",
       "710   27      0      0  13.000         0       2    male        S\n",
       "711   19      0      0  30.000         1       1  female        S\n",
       "712   26      0      0  30.000         1       1    male        C\n",
       "713   32      0      0   7.750         0       3    male        Q\n",
       "\n",
       "[714 rows x 8 columns]"
      ]
     },
     "execution_count": 3,
     "metadata": {},
     "output_type": "execute_result"
    }
   ],
   "source": [
    "abt"
   ]
  },
  {
   "cell_type": "markdown",
   "id": "e3b5673d-dbd5-45bb-8aed-fac6806bb2a5",
   "metadata": {},
   "source": [
    "## 1 Establishing a Baseline"
   ]
  },
  {
   "cell_type": "code",
   "execution_count": 4,
   "id": "5f5231d0-0fc2-48f7-b732-ba12c0a8b6f7",
   "metadata": {
    "execution": {
     "iopub.execute_input": "2025-04-25T02:15:51.341779Z",
     "iopub.status.busy": "2025-04-25T02:15:51.341333Z",
     "iopub.status.idle": "2025-04-25T02:15:51.347879Z",
     "shell.execute_reply": "2025-04-25T02:15:51.346203Z",
     "shell.execute_reply.started": "2025-04-25T02:15:51.341734Z"
    }
   },
   "outputs": [],
   "source": [
    "label = 'Survived'"
   ]
  },
  {
   "cell_type": "code",
   "execution_count": 5,
   "id": "f1f32228-772e-477c-a0c3-58fcf86a2333",
   "metadata": {
    "execution": {
     "iopub.execute_input": "2025-04-25T02:15:51.349783Z",
     "iopub.status.busy": "2025-04-25T02:15:51.349511Z",
     "iopub.status.idle": "2025-04-25T02:15:51.356264Z",
     "shell.execute_reply": "2025-04-25T02:15:51.355160Z",
     "shell.execute_reply.started": "2025-04-25T02:15:51.349753Z"
    }
   },
   "outputs": [],
   "source": [
    "pcc = ((abt[label].value_counts() / len(abt))**2).sum() * 100"
   ]
  },
  {
   "cell_type": "code",
   "execution_count": 6,
   "id": "fa6c4dd5-a647-47a6-aad6-ac6edb29f4b5",
   "metadata": {
    "execution": {
     "iopub.execute_input": "2025-04-25T02:15:51.358772Z",
     "iopub.status.busy": "2025-04-25T02:15:51.358530Z",
     "iopub.status.idle": "2025-04-25T02:15:51.365192Z",
     "shell.execute_reply": "2025-04-25T02:15:51.363954Z",
     "shell.execute_reply.started": "2025-04-25T02:15:51.358748Z"
    }
   },
   "outputs": [
    {
     "data": {
      "text/plain": [
       "51.761096595500945"
      ]
     },
     "execution_count": 6,
     "metadata": {},
     "output_type": "execute_result"
    }
   ],
   "source": [
    "pcc"
   ]
  },
  {
   "cell_type": "code",
   "execution_count": 7,
   "id": "dae81364-6f18-45e7-a9f1-33be3b2994d1",
   "metadata": {
    "execution": {
     "iopub.execute_input": "2025-04-25T02:15:51.366124Z",
     "iopub.status.busy": "2025-04-25T02:15:51.365897Z",
     "iopub.status.idle": "2025-04-25T02:15:51.370678Z",
     "shell.execute_reply": "2025-04-25T02:15:51.369637Z",
     "shell.execute_reply.started": "2025-04-25T02:15:51.366102Z"
    }
   },
   "outputs": [],
   "source": [
    "baseline = pcc * 1.25"
   ]
  },
  {
   "cell_type": "code",
   "execution_count": 8,
   "id": "7de1b309-c960-4fdc-ae30-902ae748fa47",
   "metadata": {
    "execution": {
     "iopub.execute_input": "2025-04-25T02:15:51.371660Z",
     "iopub.status.busy": "2025-04-25T02:15:51.371395Z",
     "iopub.status.idle": "2025-04-25T02:15:51.378692Z",
     "shell.execute_reply": "2025-04-25T02:15:51.377504Z",
     "shell.execute_reply.started": "2025-04-25T02:15:51.371636Z"
    }
   },
   "outputs": [
    {
     "data": {
      "text/plain": [
       "64.70137074437618"
      ]
     },
     "execution_count": 8,
     "metadata": {},
     "output_type": "execute_result"
    }
   ],
   "source": [
    "baseline"
   ]
  },
  {
   "cell_type": "markdown",
   "id": "1fa57af2-ea6e-4e7f-8375-4156347b29b8",
   "metadata": {},
   "source": [
    "## 2 Data Segregation"
   ]
  },
  {
   "cell_type": "code",
   "execution_count": 9,
   "id": "481448da-37dc-457b-b62e-967fd8f0bc58",
   "metadata": {
    "execution": {
     "iopub.execute_input": "2025-04-25T02:15:51.379444Z",
     "iopub.status.busy": "2025-04-25T02:15:51.379213Z",
     "iopub.status.idle": "2025-04-25T02:15:51.386478Z",
     "shell.execute_reply": "2025-04-25T02:15:51.385419Z",
     "shell.execute_reply.started": "2025-04-25T02:15:51.379421Z"
    }
   },
   "outputs": [],
   "source": [
    "train_size = 0.80\n",
    "random_state = 1337\n",
    "\n",
    "train_data = abt.sample(frac=0.80, random_state=random_state)\n",
    "test_data = abt.loc[~abt.index.isin(train_data.index)]"
   ]
  },
  {
   "cell_type": "markdown",
   "id": "6ef9b3d5-0b32-4b83-93ae-b90b93c17c40",
   "metadata": {},
   "source": [
    "## 3 Model Training"
   ]
  },
  {
   "cell_type": "code",
   "execution_count": 10,
   "id": "b4ffa79e-5ab2-47b2-a06f-86d14a3d1ef0",
   "metadata": {
    "execution": {
     "iopub.execute_input": "2025-04-25T02:15:51.387588Z",
     "iopub.status.busy": "2025-04-25T02:15:51.387348Z",
     "iopub.status.idle": "2025-04-25T02:15:53.634965Z",
     "shell.execute_reply": "2025-04-25T02:15:53.632962Z",
     "shell.execute_reply.started": "2025-04-25T02:15:51.387564Z"
    }
   },
   "outputs": [],
   "source": [
    "from autogluon.tabular import TabularDataset, TabularPredictor"
   ]
  },
  {
   "cell_type": "code",
   "execution_count": 11,
   "id": "4a73e6e7-bb2d-434a-8a2c-19346ef71fa7",
   "metadata": {
    "execution": {
     "iopub.execute_input": "2025-04-25T02:15:53.637065Z",
     "iopub.status.busy": "2025-04-25T02:15:53.636348Z",
     "iopub.status.idle": "2025-04-25T02:15:53.644018Z",
     "shell.execute_reply": "2025-04-25T02:15:53.642584Z",
     "shell.execute_reply.started": "2025-04-25T02:15:53.637016Z"
    }
   },
   "outputs": [],
   "source": [
    "train_dataset = TabularDataset(train_data)\n",
    "test_dataset = TabularDataset(test_data)"
   ]
  },
  {
   "cell_type": "markdown",
   "id": "2a9cac8f-aa74-4630-8379-a631c6dbb848",
   "metadata": {},
   "source": [
    "### Automatic"
   ]
  },
  {
   "cell_type": "code",
   "execution_count": 12,
   "id": "f4052e8a-cc2b-40cb-8f98-a5974fd44dd7",
   "metadata": {
    "execution": {
     "iopub.execute_input": "2025-04-25T02:15:53.645649Z",
     "iopub.status.busy": "2025-04-25T02:15:53.645216Z",
     "iopub.status.idle": "2025-04-25T02:16:56.123513Z",
     "shell.execute_reply": "2025-04-25T02:16:56.122595Z",
     "shell.execute_reply.started": "2025-04-25T02:15:53.645605Z"
    },
    "scrolled": true
   },
   "outputs": [
    {
     "name": "stderr",
     "output_type": "stream",
     "text": [
      "Verbosity: 2 (Standard Logging)\n",
      "=================== System Info ===================\n",
      "AutoGluon Version:  1.2\n",
      "Python Version:     3.10.17\n",
      "Operating System:   Linux\n",
      "Platform Machine:   x86_64\n",
      "Platform Version:   #52-Ubuntu SMP PREEMPT_DYNAMIC Thu Dec  5 13:09:44 UTC 2024\n",
      "CPU Count:          32\n",
      "Memory Avail:       235.88 GB / 251.52 GB (93.8%)\n",
      "Disk Space Avail:   3801.69 GB / 71394.83 GB (5.3%)\n",
      "===================================================\n",
      "Presets specified: ['best_quality']\n",
      "Stack configuration (auto_stack=True): num_stack_levels=0, num_bag_folds=8, num_bag_sets=1\n",
      "Beginning AutoGluon training ... Time limit = 60s\n",
      "AutoGluon will save models to \"/home/llorenzo/year-2025/Acads/msds2025-ft/adhoc/insta-ml/models/20250425\"\n",
      "Train Data Rows:    571\n",
      "Train Data Columns: 7\n",
      "Label Column:       Survived\n",
      "AutoGluon infers your prediction problem is: 'binary' (because only two unique label-values observed).\n",
      "\t2 unique label values:  [0, 1]\n",
      "\tIf 'binary' is not the correct problem_type, please manually specify the problem_type parameter during Predictor init (You may specify problem_type as one of: ['binary', 'multiclass', 'regression', 'quantile'])\n",
      "Problem Type:       binary\n",
      "Preprocessing data ...\n",
      "Selected class <--> label mapping:  class 1 = 1, class 0 = 0\n",
      "Using Feature Generators to preprocess the data ...\n",
      "Fitting AutoMLPipelineFeatureGenerator...\n",
      "\tAvailable Memory:                    241535.09 MB\n",
      "\tTrain Data (Original)  Memory Usage: 0.09 MB (0.0% of available memory)\n",
      "\tInferring data type of each feature based on column values. Set feature_metadata_in to manually specify special dtypes of the features.\n",
      "\tStage 1 Generators:\n",
      "\t\tFitting AsTypeFeatureGenerator...\n",
      "\t\t\tNote: Converting 1 features to boolean dtype as they only contain 2 unique values.\n",
      "\tStage 2 Generators:\n",
      "\t\tFitting FillNaFeatureGenerator...\n",
      "\tStage 3 Generators:\n",
      "\t\tFitting IdentityFeatureGenerator...\n",
      "\t\tFitting CategoryFeatureGenerator...\n",
      "\t\t\tFitting CategoryMemoryMinimizeFeatureGenerator...\n",
      "\tStage 4 Generators:\n",
      "\t\tFitting DropUniqueFeatureGenerator...\n",
      "\tStage 5 Generators:\n",
      "\t\tFitting DropDuplicatesFeatureGenerator...\n",
      "\tTypes of features in original data (raw dtype, special dtypes):\n",
      "\t\t('float', [])  : 1 | ['Fare']\n",
      "\t\t('int', [])    : 4 | ['Age', 'SibSp', 'Parch', 'Pclass']\n",
      "\t\t('object', []) : 2 | ['Sex', 'Embarked']\n",
      "\tTypes of features in processed data (raw dtype, special dtypes):\n",
      "\t\t('category', [])  : 1 | ['Embarked']\n",
      "\t\t('float', [])     : 1 | ['Fare']\n",
      "\t\t('int', [])       : 4 | ['Age', 'SibSp', 'Parch', 'Pclass']\n",
      "\t\t('int', ['bool']) : 1 | ['Sex']\n",
      "\t0.1s = Fit runtime\n",
      "\t7 features in original data used to generate 7 features in processed data.\n",
      "\tTrain Data (Processed) Memory Usage: 0.02 MB (0.0% of available memory)\n",
      "Data preprocessing and feature engineering runtime = 0.1s ...\n",
      "AutoGluon will gauge predictive performance using evaluation metric: 'accuracy'\n",
      "\tTo change this, specify the eval_metric parameter of Predictor()\n",
      "Large model count detected (112 configs) ... Only displaying the first 3 models of each family. To see all, set `verbosity=3`.\n",
      "User-specified model hyperparameters to be fit:\n",
      "{\n",
      "\t'NN_TORCH': [{}, {'activation': 'elu', 'dropout_prob': 0.10077639529843717, 'hidden_size': 108, 'learning_rate': 0.002735937344002146, 'num_layers': 4, 'use_batchnorm': True, 'weight_decay': 1.356433327634438e-12, 'ag_args': {'name_suffix': '_r79', 'priority': -2}}, {'activation': 'elu', 'dropout_prob': 0.11897478034205347, 'hidden_size': 213, 'learning_rate': 0.0010474382260641949, 'num_layers': 4, 'use_batchnorm': False, 'weight_decay': 5.594471067786272e-10, 'ag_args': {'name_suffix': '_r22', 'priority': -7}}],\n",
      "\t'GBM': [{'extra_trees': True, 'ag_args': {'name_suffix': 'XT'}}, {}, {'learning_rate': 0.03, 'num_leaves': 128, 'feature_fraction': 0.9, 'min_data_in_leaf': 3, 'ag_args': {'name_suffix': 'Large', 'priority': 0, 'hyperparameter_tune_kwargs': None}}],\n",
      "\t'CAT': [{}, {'depth': 6, 'grow_policy': 'SymmetricTree', 'l2_leaf_reg': 2.1542798306067823, 'learning_rate': 0.06864209415792857, 'max_ctr_complexity': 4, 'one_hot_max_size': 10, 'ag_args': {'name_suffix': '_r177', 'priority': -1}}, {'depth': 8, 'grow_policy': 'Depthwise', 'l2_leaf_reg': 2.7997999596449104, 'learning_rate': 0.031375015734637225, 'max_ctr_complexity': 2, 'one_hot_max_size': 3, 'ag_args': {'name_suffix': '_r9', 'priority': -5}}],\n",
      "\t'XGB': [{}, {'colsample_bytree': 0.6917311125174739, 'enable_categorical': False, 'learning_rate': 0.018063876087523967, 'max_depth': 10, 'min_child_weight': 0.6028633586934382, 'ag_args': {'name_suffix': '_r33', 'priority': -8}}, {'colsample_bytree': 0.6628423832084077, 'enable_categorical': False, 'learning_rate': 0.08775715546881824, 'max_depth': 5, 'min_child_weight': 0.6294123374222513, 'ag_args': {'name_suffix': '_r89', 'priority': -16}}],\n",
      "\t'FASTAI': [{}, {'bs': 256, 'emb_drop': 0.5411770367537934, 'epochs': 43, 'layers': [800, 400], 'lr': 0.01519848858318159, 'ps': 0.23782946566604385, 'ag_args': {'name_suffix': '_r191', 'priority': -4}}, {'bs': 2048, 'emb_drop': 0.05070411322605811, 'epochs': 29, 'layers': [200, 100], 'lr': 0.08974235041576624, 'ps': 0.10393466140748028, 'ag_args': {'name_suffix': '_r102', 'priority': -11}}],\n",
      "\t'RF': [{'criterion': 'gini', 'ag_args': {'name_suffix': 'Gini', 'problem_types': ['binary', 'multiclass']}}, {'criterion': 'entropy', 'ag_args': {'name_suffix': 'Entr', 'problem_types': ['binary', 'multiclass']}}, {'criterion': 'squared_error', 'ag_args': {'name_suffix': 'MSE', 'problem_types': ['regression', 'quantile']}}],\n",
      "\t'XT': [{'criterion': 'gini', 'ag_args': {'name_suffix': 'Gini', 'problem_types': ['binary', 'multiclass']}}, {'criterion': 'entropy', 'ag_args': {'name_suffix': 'Entr', 'problem_types': ['binary', 'multiclass']}}, {'criterion': 'squared_error', 'ag_args': {'name_suffix': 'MSE', 'problem_types': ['regression', 'quantile']}}],\n",
      "\t'KNN': [{'weights': 'uniform', 'ag_args': {'name_suffix': 'Unif'}}, {'weights': 'distance', 'ag_args': {'name_suffix': 'Dist'}}],\n",
      "}\n",
      "Fitting 110 L1 models, fit_strategy=\"sequential\" ...\n",
      "Fitting model: KNeighborsUnif_BAG_L1 ... Training model for up to 59.90s of the 59.88s of remaining time.\n",
      "\t0.697\t = Validation score   (accuracy)\n",
      "\t0.0s\t = Training   runtime\n",
      "\t0.05s\t = Validation runtime\n",
      "Fitting model: KNeighborsDist_BAG_L1 ... Training model for up to 59.80s of the 59.79s of remaining time.\n",
      "\t0.6673\t = Validation score   (accuracy)\n",
      "\t0.0s\t = Training   runtime\n",
      "\t0.04s\t = Validation runtime\n",
      "Fitting model: LightGBMXT_BAG_L1 ... Training model for up to 59.73s of the 59.71s of remaining time.\n",
      "\tFitting 8 child models (S1F1 - S1F8) | Fitting with ParallelLocalFoldFittingStrategy (8 workers, per: cpus=4, gpus=0, memory=0.00%)\n",
      "\t0.8214\t = Validation score   (accuracy)\n",
      "\t0.8s\t = Training   runtime\n",
      "\t0.03s\t = Validation runtime\n",
      "Fitting model: LightGBM_BAG_L1 ... Training model for up to 49.77s of the 49.76s of remaining time.\n",
      "\tFitting 8 child models (S1F1 - S1F8) | Fitting with ParallelLocalFoldFittingStrategy (8 workers, per: cpus=4, gpus=0, memory=0.00%)\n",
      "\t0.8441\t = Validation score   (accuracy)\n",
      "\t0.92s\t = Training   runtime\n",
      "\t0.03s\t = Validation runtime\n",
      "Fitting model: RandomForestGini_BAG_L1 ... Training model for up to 46.48s of the 46.47s of remaining time.\n",
      "\t0.7881\t = Validation score   (accuracy)\n",
      "\t1.84s\t = Training   runtime\n",
      "\t0.15s\t = Validation runtime\n",
      "Fitting model: RandomForestEntr_BAG_L1 ... Training model for up to 44.38s of the 44.37s of remaining time.\n",
      "\t0.7933\t = Validation score   (accuracy)\n",
      "\t1.67s\t = Training   runtime\n",
      "\t0.15s\t = Validation runtime\n",
      "Fitting model: CatBoost_BAG_L1 ... Training model for up to 42.47s of the 42.45s of remaining time.\n",
      "\tFitting 8 child models (S1F1 - S1F8) | Fitting with ParallelLocalFoldFittingStrategy (8 workers, per: cpus=4, gpus=0, memory=0.00%)\n",
      "\t0.8459\t = Validation score   (accuracy)\n",
      "\t2.59s\t = Training   runtime\n",
      "\t0.02s\t = Validation runtime\n",
      "Fitting model: ExtraTreesGini_BAG_L1 ... Training model for up to 36.88s of the 36.86s of remaining time.\n",
      "\t0.7898\t = Validation score   (accuracy)\n",
      "\t1.6s\t = Training   runtime\n",
      "\t0.15s\t = Validation runtime\n",
      "Fitting model: ExtraTreesEntr_BAG_L1 ... Training model for up to 34.61s of the 34.60s of remaining time.\n",
      "\t0.7916\t = Validation score   (accuracy)\n",
      "\t1.55s\t = Training   runtime\n",
      "\t0.15s\t = Validation runtime\n",
      "Fitting model: NeuralNetFastAI_BAG_L1 ... Training model for up to 32.80s of the 32.78s of remaining time.\n",
      "\tFitting 8 child models (S1F1 - S1F8) | Fitting with ParallelLocalFoldFittingStrategy (8 workers, per: cpus=4, gpus=0, memory=0.00%)\n",
      "\t0.8441\t = Validation score   (accuracy)\n",
      "\t10.14s\t = Training   runtime\n",
      "\t0.42s\t = Validation runtime\n",
      "Fitting model: XGBoost_BAG_L1 ... Training model for up to 20.17s of the 20.16s of remaining time.\n",
      "\tFitting 8 child models (S1F1 - S1F8) | Fitting with ParallelLocalFoldFittingStrategy (8 workers, per: cpus=4, gpus=0, memory=0.00%)\n",
      "\t0.8476\t = Validation score   (accuracy)\n",
      "\t1.05s\t = Training   runtime\n",
      "\t0.07s\t = Validation runtime\n",
      "Fitting model: NeuralNetTorch_BAG_L1 ... Training model for up to 16.66s of the 16.64s of remaining time.\n",
      "\tFitting 8 child models (S1F1 - S1F8) | Fitting with ParallelLocalFoldFittingStrategy (8 workers, per: cpus=4, gpus=0, memory=0.00%)\n",
      "\t0.8336\t = Validation score   (accuracy)\n",
      "\t15.93s\t = Training   runtime\n",
      "\t0.34s\t = Validation runtime\n",
      "Fitting model: WeightedEnsemble_L2 ... Training model for up to 59.90s of the -1.97s of remaining time.\n",
      "\tEnsemble Weights: {'XGBoost_BAG_L1': 1.0}\n",
      "\t0.8476\t = Validation score   (accuracy)\n",
      "\t0.13s\t = Training   runtime\n",
      "\t0.0s\t = Validation runtime\n",
      "AutoGluon training complete, total runtime = 62.16s ... Best model: WeightedEnsemble_L2 | Estimated inference throughput: 1031.0 rows/s (72 batch size)\n",
      "Disabling decision threshold calibration for metric `accuracy` due to having fewer than 10000 rows of validation data for calibration, to avoid overfitting (571 rows).\n",
      "\t`accuracy` is generally not improved through threshold calibration. Force calibration via specifying `calibrate_decision_threshold=True`.\n",
      "TabularPredictor saved. To load, use: predictor = TabularPredictor.load(\"/home/llorenzo/year-2025/Acads/msds2025-ft/adhoc/insta-ml/models/20250425\")\n"
     ]
    }
   ],
   "source": [
    "metric = 'accuracy'\n",
    "presets = 'best_quality'\n",
    "time_limit = 60 # in seconds\n",
    "save_path = f'models/{datetime.now().strftime(\"%Y%m%d\")}'\n",
    "verbosity = 2\n",
    "\n",
    "predictor = TabularPredictor(label=label, eval_metric=metric, path=save_path)\n",
    "predictor = predictor.fit(\n",
    "    train_dataset, time_limit=time_limit, presets=presets, verbosity=verbosity,\n",
    "    dynamic_stacking=False\n",
    ")"
   ]
  },
  {
   "cell_type": "markdown",
   "id": "881f7db5-a69f-4b7f-af80-91b1136787ee",
   "metadata": {},
   "source": [
    "### Manual"
   ]
  },
  {
   "cell_type": "code",
   "execution_count": 13,
   "id": "75078a50-67e9-469e-b372-b1be4dc45457",
   "metadata": {
    "execution": {
     "iopub.execute_input": "2025-04-25T02:16:56.125272Z",
     "iopub.status.busy": "2025-04-25T02:16:56.124574Z",
     "iopub.status.idle": "2025-04-25T02:16:56.132371Z",
     "shell.execute_reply": "2025-04-25T02:16:56.130829Z",
     "shell.execute_reply.started": "2025-04-25T02:16:56.125241Z"
    }
   },
   "outputs": [],
   "source": [
    "from autogluon.tabular.configs.hyperparameter_configs import get_hyperparameter_config"
   ]
  },
  {
   "cell_type": "code",
   "execution_count": 14,
   "id": "380224ad-2331-4c63-8fc0-ce447abc4bf0",
   "metadata": {
    "execution": {
     "iopub.execute_input": "2025-04-25T02:16:56.133610Z",
     "iopub.status.busy": "2025-04-25T02:16:56.133294Z",
     "iopub.status.idle": "2025-04-25T02:16:56.143691Z",
     "shell.execute_reply": "2025-04-25T02:16:56.142290Z",
     "shell.execute_reply.started": "2025-04-25T02:16:56.133582Z"
    }
   },
   "outputs": [
    {
     "data": {
      "text/plain": [
       "{'NN_TORCH': {},\n",
       " 'GBM': [{'extra_trees': True, 'ag_args': {'name_suffix': 'XT'}},\n",
       "  {},\n",
       "  {'learning_rate': 0.03,\n",
       "   'num_leaves': 128,\n",
       "   'feature_fraction': 0.9,\n",
       "   'min_data_in_leaf': 3,\n",
       "   'ag_args': {'name_suffix': 'Large',\n",
       "    'priority': 0,\n",
       "    'hyperparameter_tune_kwargs': None}}],\n",
       " 'CAT': {},\n",
       " 'XGB': {},\n",
       " 'FASTAI': {},\n",
       " 'RF': [{'criterion': 'gini',\n",
       "   'ag_args': {'name_suffix': 'Gini',\n",
       "    'problem_types': ['binary', 'multiclass']}},\n",
       "  {'criterion': 'entropy',\n",
       "   'ag_args': {'name_suffix': 'Entr',\n",
       "    'problem_types': ['binary', 'multiclass']}},\n",
       "  {'criterion': 'squared_error',\n",
       "   'ag_args': {'name_suffix': 'MSE',\n",
       "    'problem_types': ['regression', 'quantile']}}],\n",
       " 'XT': [{'criterion': 'gini',\n",
       "   'ag_args': {'name_suffix': 'Gini',\n",
       "    'problem_types': ['binary', 'multiclass']}},\n",
       "  {'criterion': 'entropy',\n",
       "   'ag_args': {'name_suffix': 'Entr',\n",
       "    'problem_types': ['binary', 'multiclass']}},\n",
       "  {'criterion': 'squared_error',\n",
       "   'ag_args': {'name_suffix': 'MSE',\n",
       "    'problem_types': ['regression', 'quantile']}}],\n",
       " 'KNN': [{'weights': 'uniform', 'ag_args': {'name_suffix': 'Unif'}},\n",
       "  {'weights': 'distance', 'ag_args': {'name_suffix': 'Dist'}}]}"
      ]
     },
     "execution_count": 14,
     "metadata": {},
     "output_type": "execute_result"
    }
   ],
   "source": [
    "get_hyperparameter_config('default')"
   ]
  },
  {
   "cell_type": "code",
   "execution_count": 15,
   "id": "7e6eb757-a433-4eca-b24a-802b8f6e56c3",
   "metadata": {
    "execution": {
     "iopub.execute_input": "2025-04-25T02:16:56.144866Z",
     "iopub.status.busy": "2025-04-25T02:16:56.144600Z",
     "iopub.status.idle": "2025-04-25T02:16:56.152415Z",
     "shell.execute_reply": "2025-04-25T02:16:56.151210Z",
     "shell.execute_reply.started": "2025-04-25T02:16:56.144840Z"
    }
   },
   "outputs": [],
   "source": [
    "from autogluon.common import space\n",
    "\n",
    "nn_options = {  # specifies non-default hyperparameter values for neural network models\n",
    "    'num_epochs': 10,  # number of training epochs (controls training time of NN models)\n",
    "    'learning_rate': space.Real(1e-4, 1e-2, default=5e-4, log=True),  # learning rate used in training (real-valued hyperparameter searched on log-scale)\n",
    "    'activation': space.Categorical('relu', 'softrelu', 'tanh'),  # activation function used in NN (categorical hyperparameter, default = first entry)\n",
    "    'dropout_prob': space.Real(0.0, 0.5, default=0.1),  # dropout probability (real-valued hyperparameter)\n",
    "}\n",
    "\n",
    "gbm_options = {  # specifies non-default hyperparameter values for lightGBM gradient boosted trees\n",
    "    'num_boost_round': 100,  # number of boosting rounds (controls training time of GBM models)\n",
    "    'num_leaves': space.Int(lower=26, upper=66, default=36),  # number of leaves in trees (integer hyperparameter)\n",
    "}\n",
    "\n",
    "hyperparameters = {  # hyperparameters of each model type\n",
    "                   'GBM': gbm_options,\n",
    "                   'NN_TORCH': nn_options,  # NOTE: comment this line out if you get errors on Mac OSX\n",
    "                  }  # When these keys are missing from hyperparameters dict, no models of that type are trained\n",
    "\n",
    "search_strategy = 'auto'  # to tune hyperparameters using random search routine with a local scheduler\n",
    "\n",
    "hyperparameter_tune_kwargs = {  # HPO is not performed unless hyperparameter_tune_kwargs is specified\n",
    "    'scheduler': 'local',\n",
    "    'searcher': search_strategy,\n",
    "}  # Refer to TabularPredictor.fit docstring for all valid values"
   ]
  },
  {
   "cell_type": "code",
   "execution_count": 16,
   "id": "e4ae1c3d-5642-4127-9354-763c0df92b93",
   "metadata": {
    "execution": {
     "iopub.execute_input": "2025-04-25T02:16:56.153790Z",
     "iopub.status.busy": "2025-04-25T02:16:56.153503Z",
     "iopub.status.idle": "2025-04-25T02:17:28.421426Z",
     "shell.execute_reply": "2025-04-25T02:17:28.420259Z",
     "shell.execute_reply.started": "2025-04-25T02:16:56.153756Z"
    },
    "scrolled": true
   },
   "outputs": [
    {
     "data": {
      "text/html": [],
      "text/plain": [
       "<IPython.core.display.HTML object>"
      ]
     },
     "metadata": {},
     "output_type": "display_data"
    },
    {
     "name": "stderr",
     "output_type": "stream",
     "text": [
      "Fitted model: NeuralNetTorch_BAG_L1/68720436 ...\n",
      "\t0.8196\t = Validation score   (accuracy)\n",
      "\t8.21s\t = Training   runtime\n",
      "\t0.17s\t = Validation runtime\n",
      "Fitting model: WeightedEnsemble_L2 ... Training model for up to 29.88s of the -2.13s of remaining time.\n",
      "\tEnsemble Weights: {'LightGBM_BAG_L1/T2': 1.0}\n",
      "\t0.8441\t = Validation score   (accuracy)\n",
      "\t0.04s\t = Training   runtime\n",
      "\t0.0s\t = Validation runtime\n",
      "AutoGluon training complete, total runtime = 32.23s ... Best model: WeightedEnsemble_L2 | Estimated inference throughput: 2834.4 rows/s (72 batch size)\n",
      "Disabling decision threshold calibration for metric `accuracy` due to having fewer than 10000 rows of validation data for calibration, to avoid overfitting (571 rows).\n",
      "\t`accuracy` is generally not improved through threshold calibration. Force calibration via specifying `calibrate_decision_threshold=True`.\n",
      "TabularPredictor saved. To load, use: predictor = TabularPredictor.load(\"/home/llorenzo/year-2025/Acads/msds2025-ft/adhoc/insta-ml/models/20250425\")\n"
     ]
    }
   ],
   "source": [
    "metric = 'accuracy'\n",
    "presets = 'best_quality'\n",
    "time_limit = 30 # in seconds\n",
    "save_path = f'models/{datetime.now().strftime(\"%Y%m%d\")}'\n",
    "verbosity = 2\n",
    "\n",
    "predictor = TabularPredictor(label=label, eval_metric=metric, path=save_path)\n",
    "predictor = predictor.fit(\n",
    "    train_dataset, time_limit=time_limit, presets=presets, verbosity=verbosity,\n",
    "    dynamic_stacking=False, hyperparameters=hyperparameters,\n",
    "    hyperparameter_tune_kwargs=hyperparameter_tune_kwargs,\n",
    ")"
   ]
  },
  {
   "cell_type": "markdown",
   "id": "310e59d7-3f97-4c56-a161-c7aee9d2f96f",
   "metadata": {},
   "source": [
    "## 4 Model Performance"
   ]
  },
  {
   "cell_type": "code",
   "execution_count": 17,
   "id": "929d508d-baee-40ac-b700-4f169a804c53",
   "metadata": {
    "execution": {
     "iopub.execute_input": "2025-04-25T02:17:28.422621Z",
     "iopub.status.busy": "2025-04-25T02:17:28.422372Z",
     "iopub.status.idle": "2025-04-25T02:17:28.885577Z",
     "shell.execute_reply": "2025-04-25T02:17:28.884370Z",
     "shell.execute_reply.started": "2025-04-25T02:17:28.422596Z"
    }
   },
   "outputs": [
    {
     "data": {
      "text/plain": [
       "0      0\n",
       "5      0\n",
       "7      1\n",
       "10     1\n",
       "22     0\n",
       "      ..\n",
       "694    1\n",
       "696    1\n",
       "705    0\n",
       "707    0\n",
       "712    1\n",
       "Name: Survived, Length: 143, dtype: int64"
      ]
     },
     "execution_count": 17,
     "metadata": {},
     "output_type": "execute_result"
    }
   ],
   "source": [
    "predictor.predict(test_dataset)"
   ]
  },
  {
   "cell_type": "code",
   "execution_count": 18,
   "id": "c3a010a9-e3e4-4281-ba68-5bed10e81e0b",
   "metadata": {
    "execution": {
     "iopub.execute_input": "2025-04-25T02:17:28.888690Z",
     "iopub.status.busy": "2025-04-25T02:17:28.886998Z",
     "iopub.status.idle": "2025-04-25T02:17:29.045744Z",
     "shell.execute_reply": "2025-04-25T02:17:29.044912Z",
     "shell.execute_reply.started": "2025-04-25T02:17:28.888646Z"
    }
   },
   "outputs": [
    {
     "data": {
      "text/plain": [
       "{'accuracy': 0.8041958041958042,\n",
       " 'balanced_accuracy': 0.785411622276029,\n",
       " 'mcc': 0.5921140028457315,\n",
       " 'roc_auc': 0.8617836965294592,\n",
       " 'f1': 0.7407407407407407,\n",
       " 'precision': 0.8163265306122449,\n",
       " 'recall': 0.6779661016949152}"
      ]
     },
     "execution_count": 18,
     "metadata": {},
     "output_type": "execute_result"
    }
   ],
   "source": [
    "predictor.evaluate(test_dataset)"
   ]
  },
  {
   "cell_type": "code",
   "execution_count": 19,
   "id": "0c5092cd-8177-4bf0-865b-b1af757e565a",
   "metadata": {
    "execution": {
     "iopub.execute_input": "2025-04-25T02:17:29.047297Z",
     "iopub.status.busy": "2025-04-25T02:17:29.046773Z",
     "iopub.status.idle": "2025-04-25T02:17:33.709463Z",
     "shell.execute_reply": "2025-04-25T02:17:33.708315Z",
     "shell.execute_reply.started": "2025-04-25T02:17:29.047262Z"
    }
   },
   "outputs": [
    {
     "data": {
      "text/html": [
       "<div>\n",
       "<style scoped>\n",
       "    .dataframe tbody tr th:only-of-type {\n",
       "        vertical-align: middle;\n",
       "    }\n",
       "\n",
       "    .dataframe tbody tr th {\n",
       "        vertical-align: top;\n",
       "    }\n",
       "\n",
       "    .dataframe thead th {\n",
       "        text-align: right;\n",
       "    }\n",
       "</style>\n",
       "<table border=\"1\" class=\"dataframe\">\n",
       "  <thead>\n",
       "    <tr style=\"text-align: right;\">\n",
       "      <th></th>\n",
       "      <th>model</th>\n",
       "      <th>score_test</th>\n",
       "      <th>score_val</th>\n",
       "      <th>eval_metric</th>\n",
       "      <th>pred_time_test</th>\n",
       "      <th>pred_time_val</th>\n",
       "      <th>fit_time</th>\n",
       "      <th>pred_time_test_marginal</th>\n",
       "      <th>pred_time_val_marginal</th>\n",
       "      <th>fit_time_marginal</th>\n",
       "      <th>stack_level</th>\n",
       "      <th>can_infer</th>\n",
       "      <th>fit_order</th>\n",
       "    </tr>\n",
       "  </thead>\n",
       "  <tbody>\n",
       "    <tr>\n",
       "      <th>0</th>\n",
       "      <td>LightGBM_BAG_L1/T1</td>\n",
       "      <td>0.811189</td>\n",
       "      <td>0.842382</td>\n",
       "      <td>accuracy</td>\n",
       "      <td>0.169680</td>\n",
       "      <td>0.026654</td>\n",
       "      <td>3.513128</td>\n",
       "      <td>0.169680</td>\n",
       "      <td>0.026654</td>\n",
       "      <td>3.513128</td>\n",
       "      <td>1</td>\n",
       "      <td>True</td>\n",
       "      <td>1</td>\n",
       "    </tr>\n",
       "    <tr>\n",
       "      <th>1</th>\n",
       "      <td>LightGBM_BAG_L1/T4</td>\n",
       "      <td>0.811189</td>\n",
       "      <td>0.812609</td>\n",
       "      <td>accuracy</td>\n",
       "      <td>1.170597</td>\n",
       "      <td>0.025200</td>\n",
       "      <td>3.921769</td>\n",
       "      <td>1.170597</td>\n",
       "      <td>0.025200</td>\n",
       "      <td>3.921769</td>\n",
       "      <td>1</td>\n",
       "      <td>True</td>\n",
       "      <td>4</td>\n",
       "    </tr>\n",
       "    <tr>\n",
       "      <th>2</th>\n",
       "      <td>NeuralNetTorch_BAG_L1/68720436</td>\n",
       "      <td>0.811189</td>\n",
       "      <td>0.819615</td>\n",
       "      <td>accuracy</td>\n",
       "      <td>2.718895</td>\n",
       "      <td>0.170979</td>\n",
       "      <td>8.207555</td>\n",
       "      <td>2.718895</td>\n",
       "      <td>0.170979</td>\n",
       "      <td>8.207555</td>\n",
       "      <td>1</td>\n",
       "      <td>True</td>\n",
       "      <td>5</td>\n",
       "    </tr>\n",
       "    <tr>\n",
       "      <th>3</th>\n",
       "      <td>LightGBM_BAG_L1/T2</td>\n",
       "      <td>0.804196</td>\n",
       "      <td>0.844133</td>\n",
       "      <td>accuracy</td>\n",
       "      <td>0.192918</td>\n",
       "      <td>0.025267</td>\n",
       "      <td>3.318850</td>\n",
       "      <td>0.192918</td>\n",
       "      <td>0.025267</td>\n",
       "      <td>3.318850</td>\n",
       "      <td>1</td>\n",
       "      <td>True</td>\n",
       "      <td>2</td>\n",
       "    </tr>\n",
       "    <tr>\n",
       "      <th>4</th>\n",
       "      <td>WeightedEnsemble_L2</td>\n",
       "      <td>0.804196</td>\n",
       "      <td>0.844133</td>\n",
       "      <td>accuracy</td>\n",
       "      <td>0.195556</td>\n",
       "      <td>0.026337</td>\n",
       "      <td>3.357702</td>\n",
       "      <td>0.002639</td>\n",
       "      <td>0.001070</td>\n",
       "      <td>0.038852</td>\n",
       "      <td>2</td>\n",
       "      <td>True</td>\n",
       "      <td>6</td>\n",
       "    </tr>\n",
       "    <tr>\n",
       "      <th>5</th>\n",
       "      <td>LightGBM_BAG_L1/T3</td>\n",
       "      <td>0.797203</td>\n",
       "      <td>0.830123</td>\n",
       "      <td>accuracy</td>\n",
       "      <td>0.362842</td>\n",
       "      <td>0.023830</td>\n",
       "      <td>3.216524</td>\n",
       "      <td>0.362842</td>\n",
       "      <td>0.023830</td>\n",
       "      <td>3.216524</td>\n",
       "      <td>1</td>\n",
       "      <td>True</td>\n",
       "      <td>3</td>\n",
       "    </tr>\n",
       "  </tbody>\n",
       "</table>\n",
       "</div>"
      ],
      "text/plain": [
       "                            model  score_test  score_val eval_metric  \\\n",
       "0              LightGBM_BAG_L1/T1    0.811189   0.842382    accuracy   \n",
       "1              LightGBM_BAG_L1/T4    0.811189   0.812609    accuracy   \n",
       "2  NeuralNetTorch_BAG_L1/68720436    0.811189   0.819615    accuracy   \n",
       "3              LightGBM_BAG_L1/T2    0.804196   0.844133    accuracy   \n",
       "4             WeightedEnsemble_L2    0.804196   0.844133    accuracy   \n",
       "5              LightGBM_BAG_L1/T3    0.797203   0.830123    accuracy   \n",
       "\n",
       "   pred_time_test  pred_time_val  fit_time  pred_time_test_marginal  \\\n",
       "0        0.169680       0.026654  3.513128                 0.169680   \n",
       "1        1.170597       0.025200  3.921769                 1.170597   \n",
       "2        2.718895       0.170979  8.207555                 2.718895   \n",
       "3        0.192918       0.025267  3.318850                 0.192918   \n",
       "4        0.195556       0.026337  3.357702                 0.002639   \n",
       "5        0.362842       0.023830  3.216524                 0.362842   \n",
       "\n",
       "   pred_time_val_marginal  fit_time_marginal  stack_level  can_infer  \\\n",
       "0                0.026654           3.513128            1       True   \n",
       "1                0.025200           3.921769            1       True   \n",
       "2                0.170979           8.207555            1       True   \n",
       "3                0.025267           3.318850            1       True   \n",
       "4                0.001070           0.038852            2       True   \n",
       "5                0.023830           3.216524            1       True   \n",
       "\n",
       "   fit_order  \n",
       "0          1  \n",
       "1          4  \n",
       "2          5  \n",
       "3          2  \n",
       "4          6  \n",
       "5          3  "
      ]
     },
     "execution_count": 19,
     "metadata": {},
     "output_type": "execute_result"
    }
   ],
   "source": [
    "predictor.leaderboard(test_dataset)"
   ]
  },
  {
   "cell_type": "code",
   "execution_count": 20,
   "id": "6f4ac092-a306-4e50-ac16-7f145c7cf777",
   "metadata": {
    "execution": {
     "iopub.execute_input": "2025-04-25T02:17:33.711321Z",
     "iopub.status.busy": "2025-04-25T02:17:33.710690Z",
     "iopub.status.idle": "2025-04-25T02:17:33.719861Z",
     "shell.execute_reply": "2025-04-25T02:17:33.718493Z",
     "shell.execute_reply.started": "2025-04-25T02:17:33.711287Z"
    }
   },
   "outputs": [
    {
     "data": {
      "text/plain": [
       "'WeightedEnsemble_L2'"
      ]
     },
     "execution_count": 20,
     "metadata": {},
     "output_type": "execute_result"
    }
   ],
   "source": [
    "predictor.model_best"
   ]
  },
  {
   "cell_type": "code",
   "execution_count": 21,
   "id": "ac8105f6-a14d-4fda-a2e9-7ed27ec8569d",
   "metadata": {
    "execution": {
     "iopub.execute_input": "2025-04-25T02:17:33.723380Z",
     "iopub.status.busy": "2025-04-25T02:17:33.723107Z",
     "iopub.status.idle": "2025-04-25T02:17:33.730006Z",
     "shell.execute_reply": "2025-04-25T02:17:33.729018Z",
     "shell.execute_reply.started": "2025-04-25T02:17:33.723348Z"
    }
   },
   "outputs": [
    {
     "data": {
      "text/plain": [
       "['LightGBM_BAG_L1/T1',\n",
       " 'LightGBM_BAG_L1/T2',\n",
       " 'LightGBM_BAG_L1/T3',\n",
       " 'LightGBM_BAG_L1/T4',\n",
       " 'NeuralNetTorch_BAG_L1/68720436',\n",
       " 'WeightedEnsemble_L2']"
      ]
     },
     "execution_count": 21,
     "metadata": {},
     "output_type": "execute_result"
    }
   ],
   "source": [
    "predictor.model_names()"
   ]
  },
  {
   "cell_type": "code",
   "execution_count": 22,
   "id": "68d6c194-f3a9-4c52-8069-e4d1078fa359",
   "metadata": {
    "execution": {
     "iopub.execute_input": "2025-04-25T02:17:33.731567Z",
     "iopub.status.busy": "2025-04-25T02:17:33.731223Z",
     "iopub.status.idle": "2025-04-25T02:17:33.791050Z",
     "shell.execute_reply": "2025-04-25T02:17:33.790438Z",
     "shell.execute_reply.started": "2025-04-25T02:17:33.731533Z"
    }
   },
   "outputs": [
    {
     "data": {
      "text/plain": [
       "{'accuracy': 0.8111888111888111,\n",
       " 'balanced_accuracy': 0.7913640032284099,\n",
       " 'mcc': 0.6075039676874432,\n",
       " 'roc_auc': 0.8876109765940274,\n",
       " 'f1': 0.7476635514018691,\n",
       " 'precision': 0.8333333333333334,\n",
       " 'recall': 0.6779661016949152}"
      ]
     },
     "execution_count": 22,
     "metadata": {},
     "output_type": "execute_result"
    }
   ],
   "source": [
    "predictor.evaluate(model='LightGBM_BAG_L1/T1', data=test_dataset)"
   ]
  }
 ],
 "metadata": {
  "kernelspec": {
   "display_name": "Python [conda env:insta-ml]",
   "language": "python",
   "name": "conda-env-insta-ml-py"
  },
  "language_info": {
   "codemirror_mode": {
    "name": "ipython",
    "version": 3
   },
   "file_extension": ".py",
   "mimetype": "text/x-python",
   "name": "python",
   "nbconvert_exporter": "python",
   "pygments_lexer": "ipython3",
   "version": "3.10.17"
  }
 },
 "nbformat": 4,
 "nbformat_minor": 5
}
