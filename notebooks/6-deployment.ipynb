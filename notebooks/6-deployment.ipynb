{
 "cells": [
  {
   "cell_type": "code",
   "execution_count": 2,
   "id": "0b7c2109-3604-4012-ab33-162faa831eae",
   "metadata": {
    "execution": {
     "iopub.execute_input": "2025-04-25T03:32:13.187198Z",
     "iopub.status.busy": "2025-04-25T03:32:13.186150Z",
     "iopub.status.idle": "2025-04-25T03:32:13.776317Z",
     "shell.execute_reply": "2025-04-25T03:32:13.774376Z",
     "shell.execute_reply.started": "2025-04-25T03:32:13.187123Z"
    }
   },
   "outputs": [],
   "source": [
    "import os\n",
    "import sys\n",
    "from datetime import datetime\n",
    "\n",
    "import yaml\n",
    "import pandas as pd\n",
    "\n",
    "\n",
    "os.chdir('..')\n",
    "sys.path.append(os.getcwd())\n",
    "\n",
    "# Initial configurations\n",
    "config_filepath = 'config.yml'\n",
    "\n",
    "with open(config_filepath, 'r') as f:\n",
    "    config = yaml.safe_load(f)"
   ]
  },
  {
   "cell_type": "markdown",
   "id": "75edbd72-15bc-4104-a455-e07194407c63",
   "metadata": {},
   "source": [
    "# Deployment"
   ]
  },
  {
   "cell_type": "markdown",
   "id": "88acaa65-6120-4300-88b2-964e3bae6208",
   "metadata": {},
   "source": [
    "## 1 Initialize Model and Explainer"
   ]
  },
  {
   "cell_type": "code",
   "execution_count": 15,
   "id": "3ed95267-28ac-4e60-9615-05dd45d5f1ed",
   "metadata": {
    "execution": {
     "iopub.execute_input": "2025-04-25T03:51:41.770268Z",
     "iopub.status.busy": "2025-04-25T03:51:41.768493Z",
     "iopub.status.idle": "2025-04-25T03:51:43.182380Z",
     "shell.execute_reply": "2025-04-25T03:51:43.180734Z",
     "shell.execute_reply.started": "2025-04-25T03:51:41.770185Z"
    }
   },
   "outputs": [],
   "source": [
    "import shap\n",
    "\n",
    "from src.model_evaluation import AutogluonWrapper"
   ]
  },
  {
   "cell_type": "code",
   "execution_count": 19,
   "id": "ae2d0ea1-ed78-4aab-a14e-f33cb5b791d5",
   "metadata": {
    "execution": {
     "iopub.execute_input": "2025-04-25T04:03:30.477704Z",
     "iopub.status.busy": "2025-04-25T04:03:30.476852Z",
     "iopub.status.idle": "2025-04-25T04:03:30.495691Z",
     "shell.execute_reply": "2025-04-25T04:03:30.493994Z",
     "shell.execute_reply.started": "2025-04-25T04:03:30.477630Z"
    }
   },
   "outputs": [],
   "source": [
    "abt = pd.read_csv(config['filepaths']['abt'])\n",
    "feature_names = abt.columns\n",
    "\n",
    "predictor = TabularPredictor.load(config['filepaths']['model'])"
   ]
  },
  {
   "cell_type": "code",
   "execution_count": 21,
   "id": "c4da739f-17fa-4af3-bfb9-485d5738eda5",
   "metadata": {
    "execution": {
     "iopub.execute_input": "2025-04-25T04:03:37.187249Z",
     "iopub.status.busy": "2025-04-25T04:03:37.186446Z",
     "iopub.status.idle": "2025-04-25T04:03:37.256329Z",
     "shell.execute_reply": "2025-04-25T04:03:37.255684Z",
     "shell.execute_reply.started": "2025-04-25T04:03:37.187177Z"
    }
   },
   "outputs": [
    {
     "name": "stderr",
     "output_type": "stream",
     "text": [
      "Using 714 background data samples could cause slower run times. Consider using shap.sample(data, K) or shap.kmeans(data, K) to summarize the background as K samples.\n"
     ]
    }
   ],
   "source": [
    "wrapper = AutogluonWrapper(predictor, feature_names)\n",
    "explainer = shap.KernelExplainer(\n",
    "    wrapper.predict_binary_prob, abt, feature_names=feature_names)"
   ]
  },
  {
   "cell_type": "markdown",
   "id": "94795e98-24b0-45f6-b8fd-f0e0d5614c87",
   "metadata": {},
   "source": [
    "## 2 On Demand Prediction"
   ]
  },
  {
   "cell_type": "code",
   "execution_count": 3,
   "id": "120a650b-b674-45bf-b7b3-e4b914959980",
   "metadata": {
    "execution": {
     "iopub.execute_input": "2025-04-25T03:34:53.179682Z",
     "iopub.status.busy": "2025-04-25T03:34:53.178440Z",
     "iopub.status.idle": "2025-04-25T03:34:56.021036Z",
     "shell.execute_reply": "2025-04-25T03:34:56.019471Z",
     "shell.execute_reply.started": "2025-04-25T03:34:53.179601Z"
    }
   },
   "outputs": [],
   "source": [
    "from autogluon.tabular import TabularDataset, TabularPredictor"
   ]
  },
  {
   "cell_type": "code",
   "execution_count": 9,
   "id": "2995108f-2850-4668-acd5-a19c21d8ce9d",
   "metadata": {
    "execution": {
     "iopub.execute_input": "2025-04-25T03:39:15.650734Z",
     "iopub.status.busy": "2025-04-25T03:39:15.648730Z",
     "iopub.status.idle": "2025-04-25T03:39:15.676085Z",
     "shell.execute_reply": "2025-04-25T03:39:15.674724Z",
     "shell.execute_reply.started": "2025-04-25T03:39:15.650653Z"
    }
   },
   "outputs": [
    {
     "data": {
      "text/html": [
       "<div>\n",
       "<style scoped>\n",
       "    .dataframe tbody tr th:only-of-type {\n",
       "        vertical-align: middle;\n",
       "    }\n",
       "\n",
       "    .dataframe tbody tr th {\n",
       "        vertical-align: top;\n",
       "    }\n",
       "\n",
       "    .dataframe thead th {\n",
       "        text-align: right;\n",
       "    }\n",
       "</style>\n",
       "<table border=\"1\" class=\"dataframe\">\n",
       "  <thead>\n",
       "    <tr style=\"text-align: right;\">\n",
       "      <th></th>\n",
       "      <th>Age</th>\n",
       "      <th>SibSp</th>\n",
       "      <th>Parch</th>\n",
       "      <th>Fare</th>\n",
       "      <th>Survived</th>\n",
       "      <th>Pclass</th>\n",
       "      <th>Sex</th>\n",
       "      <th>Embarked</th>\n",
       "    </tr>\n",
       "  </thead>\n",
       "  <tbody>\n",
       "    <tr>\n",
       "      <th>0</th>\n",
       "      <td>22</td>\n",
       "      <td>1</td>\n",
       "      <td>0</td>\n",
       "      <td>7.250</td>\n",
       "      <td>0</td>\n",
       "      <td>3</td>\n",
       "      <td>male</td>\n",
       "      <td>S</td>\n",
       "    </tr>\n",
       "    <tr>\n",
       "      <th>1</th>\n",
       "      <td>38</td>\n",
       "      <td>1</td>\n",
       "      <td>0</td>\n",
       "      <td>50.000</td>\n",
       "      <td>1</td>\n",
       "      <td>1</td>\n",
       "      <td>female</td>\n",
       "      <td>C</td>\n",
       "    </tr>\n",
       "    <tr>\n",
       "      <th>2</th>\n",
       "      <td>26</td>\n",
       "      <td>0</td>\n",
       "      <td>0</td>\n",
       "      <td>7.925</td>\n",
       "      <td>1</td>\n",
       "      <td>3</td>\n",
       "      <td>female</td>\n",
       "      <td>S</td>\n",
       "    </tr>\n",
       "    <tr>\n",
       "      <th>3</th>\n",
       "      <td>35</td>\n",
       "      <td>1</td>\n",
       "      <td>0</td>\n",
       "      <td>50.000</td>\n",
       "      <td>1</td>\n",
       "      <td>1</td>\n",
       "      <td>female</td>\n",
       "      <td>S</td>\n",
       "    </tr>\n",
       "    <tr>\n",
       "      <th>4</th>\n",
       "      <td>35</td>\n",
       "      <td>0</td>\n",
       "      <td>0</td>\n",
       "      <td>8.050</td>\n",
       "      <td>0</td>\n",
       "      <td>3</td>\n",
       "      <td>male</td>\n",
       "      <td>S</td>\n",
       "    </tr>\n",
       "    <tr>\n",
       "      <th>...</th>\n",
       "      <td>...</td>\n",
       "      <td>...</td>\n",
       "      <td>...</td>\n",
       "      <td>...</td>\n",
       "      <td>...</td>\n",
       "      <td>...</td>\n",
       "      <td>...</td>\n",
       "      <td>...</td>\n",
       "    </tr>\n",
       "    <tr>\n",
       "      <th>709</th>\n",
       "      <td>39</td>\n",
       "      <td>0</td>\n",
       "      <td>5</td>\n",
       "      <td>29.125</td>\n",
       "      <td>0</td>\n",
       "      <td>3</td>\n",
       "      <td>female</td>\n",
       "      <td>Q</td>\n",
       "    </tr>\n",
       "    <tr>\n",
       "      <th>710</th>\n",
       "      <td>27</td>\n",
       "      <td>0</td>\n",
       "      <td>0</td>\n",
       "      <td>13.000</td>\n",
       "      <td>0</td>\n",
       "      <td>2</td>\n",
       "      <td>male</td>\n",
       "      <td>S</td>\n",
       "    </tr>\n",
       "    <tr>\n",
       "      <th>711</th>\n",
       "      <td>19</td>\n",
       "      <td>0</td>\n",
       "      <td>0</td>\n",
       "      <td>30.000</td>\n",
       "      <td>1</td>\n",
       "      <td>1</td>\n",
       "      <td>female</td>\n",
       "      <td>S</td>\n",
       "    </tr>\n",
       "    <tr>\n",
       "      <th>712</th>\n",
       "      <td>26</td>\n",
       "      <td>0</td>\n",
       "      <td>0</td>\n",
       "      <td>30.000</td>\n",
       "      <td>1</td>\n",
       "      <td>1</td>\n",
       "      <td>male</td>\n",
       "      <td>C</td>\n",
       "    </tr>\n",
       "    <tr>\n",
       "      <th>713</th>\n",
       "      <td>32</td>\n",
       "      <td>0</td>\n",
       "      <td>0</td>\n",
       "      <td>7.750</td>\n",
       "      <td>0</td>\n",
       "      <td>3</td>\n",
       "      <td>male</td>\n",
       "      <td>Q</td>\n",
       "    </tr>\n",
       "  </tbody>\n",
       "</table>\n",
       "<p>714 rows × 8 columns</p>\n",
       "</div>"
      ],
      "text/plain": [
       "     Age  SibSp  Parch    Fare  Survived  Pclass     Sex Embarked\n",
       "0     22      1      0   7.250         0       3    male        S\n",
       "1     38      1      0  50.000         1       1  female        C\n",
       "2     26      0      0   7.925         1       3  female        S\n",
       "3     35      1      0  50.000         1       1  female        S\n",
       "4     35      0      0   8.050         0       3    male        S\n",
       "..   ...    ...    ...     ...       ...     ...     ...      ...\n",
       "709   39      0      5  29.125         0       3  female        Q\n",
       "710   27      0      0  13.000         0       2    male        S\n",
       "711   19      0      0  30.000         1       1  female        S\n",
       "712   26      0      0  30.000         1       1    male        C\n",
       "713   32      0      0   7.750         0       3    male        Q\n",
       "\n",
       "[714 rows x 8 columns]"
      ]
     },
     "execution_count": 9,
     "metadata": {},
     "output_type": "execute_result"
    }
   ],
   "source": [
    "abt"
   ]
  },
  {
   "cell_type": "code",
   "execution_count": 8,
   "id": "33b836ae-0fe1-44c1-8098-bc146c5ff113",
   "metadata": {
    "execution": {
     "iopub.execute_input": "2025-04-25T03:36:02.148817Z",
     "iopub.status.busy": "2025-04-25T03:36:02.148022Z",
     "iopub.status.idle": "2025-04-25T03:36:02.164061Z",
     "shell.execute_reply": "2025-04-25T03:36:02.162057Z",
     "shell.execute_reply.started": "2025-04-25T03:36:02.148745Z"
    }
   },
   "outputs": [
    {
     "data": {
      "text/plain": [
       "Age           int64\n",
       "SibSp         int64\n",
       "Parch         int64\n",
       "Fare        float64\n",
       "Survived      int64\n",
       "Pclass        int64\n",
       "Sex          object\n",
       "Embarked     object\n",
       "dtype: object"
      ]
     },
     "execution_count": 8,
     "metadata": {},
     "output_type": "execute_result"
    }
   ],
   "source": [
    "abt.dtypes"
   ]
  },
  {
   "cell_type": "code",
   "execution_count": 22,
   "id": "67732f65-5c6a-4d57-b52d-ff0bb5761421",
   "metadata": {
    "execution": {
     "iopub.execute_input": "2025-04-25T04:04:15.286137Z",
     "iopub.status.busy": "2025-04-25T04:04:15.284006Z",
     "iopub.status.idle": "2025-04-25T04:04:15.296355Z",
     "shell.execute_reply": "2025-04-25T04:04:15.294695Z",
     "shell.execute_reply.started": "2025-04-25T04:04:15.286023Z"
    }
   },
   "outputs": [],
   "source": [
    "test_data = pd.DataFrame([{\n",
    "    'Age': 20,\n",
    "    'SibSp': 1,\n",
    "    'Parch': 2,\n",
    "    'Fare': 30,\n",
    "    'Sex': 'male',\n",
    "    'Embarked': 'S',\n",
    "    'Pclass': 2\n",
    "}])"
   ]
  },
  {
   "cell_type": "code",
   "execution_count": 23,
   "id": "192714cb-306b-4b4b-8640-38cc473ae29d",
   "metadata": {
    "execution": {
     "iopub.execute_input": "2025-04-25T04:04:15.545739Z",
     "iopub.status.busy": "2025-04-25T04:04:15.544763Z",
     "iopub.status.idle": "2025-04-25T04:04:15.630143Z",
     "shell.execute_reply": "2025-04-25T04:04:15.629426Z",
     "shell.execute_reply.started": "2025-04-25T04:04:15.545631Z"
    }
   },
   "outputs": [
    {
     "data": {
      "text/plain": [
       "0    0\n",
       "Name: Survived, dtype: int64"
      ]
     },
     "execution_count": 23,
     "metadata": {},
     "output_type": "execute_result"
    }
   ],
   "source": [
    "predictor.predict(test_data)"
   ]
  },
  {
   "cell_type": "code",
   "execution_count": 27,
   "id": "d928bbc1-5ed9-439e-b994-fbf1553b3d2e",
   "metadata": {
    "execution": {
     "iopub.execute_input": "2025-04-25T04:04:57.498804Z",
     "iopub.status.busy": "2025-04-25T04:04:57.497989Z",
     "iopub.status.idle": "2025-04-25T04:04:57.525589Z",
     "shell.execute_reply": "2025-04-25T04:04:57.524101Z",
     "shell.execute_reply.started": "2025-04-25T04:04:57.498731Z"
    }
   },
   "outputs": [
    {
     "data": {
      "text/html": [
       "<div>\n",
       "<style scoped>\n",
       "    .dataframe tbody tr th:only-of-type {\n",
       "        vertical-align: middle;\n",
       "    }\n",
       "\n",
       "    .dataframe tbody tr th {\n",
       "        vertical-align: top;\n",
       "    }\n",
       "\n",
       "    .dataframe thead th {\n",
       "        text-align: right;\n",
       "    }\n",
       "</style>\n",
       "<table border=\"1\" class=\"dataframe\">\n",
       "  <thead>\n",
       "    <tr style=\"text-align: right;\">\n",
       "      <th></th>\n",
       "      <th>Age</th>\n",
       "      <th>SibSp</th>\n",
       "      <th>Parch</th>\n",
       "      <th>Fare</th>\n",
       "      <th>Survived</th>\n",
       "      <th>Pclass</th>\n",
       "      <th>Sex</th>\n",
       "      <th>Embarked</th>\n",
       "    </tr>\n",
       "  </thead>\n",
       "  <tbody>\n",
       "    <tr>\n",
       "      <th>0</th>\n",
       "      <td>22</td>\n",
       "      <td>1</td>\n",
       "      <td>0</td>\n",
       "      <td>7.250</td>\n",
       "      <td>0</td>\n",
       "      <td>3</td>\n",
       "      <td>male</td>\n",
       "      <td>S</td>\n",
       "    </tr>\n",
       "    <tr>\n",
       "      <th>1</th>\n",
       "      <td>38</td>\n",
       "      <td>1</td>\n",
       "      <td>0</td>\n",
       "      <td>50.000</td>\n",
       "      <td>1</td>\n",
       "      <td>1</td>\n",
       "      <td>female</td>\n",
       "      <td>C</td>\n",
       "    </tr>\n",
       "    <tr>\n",
       "      <th>2</th>\n",
       "      <td>26</td>\n",
       "      <td>0</td>\n",
       "      <td>0</td>\n",
       "      <td>7.925</td>\n",
       "      <td>1</td>\n",
       "      <td>3</td>\n",
       "      <td>female</td>\n",
       "      <td>S</td>\n",
       "    </tr>\n",
       "    <tr>\n",
       "      <th>3</th>\n",
       "      <td>35</td>\n",
       "      <td>1</td>\n",
       "      <td>0</td>\n",
       "      <td>50.000</td>\n",
       "      <td>1</td>\n",
       "      <td>1</td>\n",
       "      <td>female</td>\n",
       "      <td>S</td>\n",
       "    </tr>\n",
       "    <tr>\n",
       "      <th>4</th>\n",
       "      <td>35</td>\n",
       "      <td>0</td>\n",
       "      <td>0</td>\n",
       "      <td>8.050</td>\n",
       "      <td>0</td>\n",
       "      <td>3</td>\n",
       "      <td>male</td>\n",
       "      <td>S</td>\n",
       "    </tr>\n",
       "    <tr>\n",
       "      <th>...</th>\n",
       "      <td>...</td>\n",
       "      <td>...</td>\n",
       "      <td>...</td>\n",
       "      <td>...</td>\n",
       "      <td>...</td>\n",
       "      <td>...</td>\n",
       "      <td>...</td>\n",
       "      <td>...</td>\n",
       "    </tr>\n",
       "    <tr>\n",
       "      <th>709</th>\n",
       "      <td>39</td>\n",
       "      <td>0</td>\n",
       "      <td>5</td>\n",
       "      <td>29.125</td>\n",
       "      <td>0</td>\n",
       "      <td>3</td>\n",
       "      <td>female</td>\n",
       "      <td>Q</td>\n",
       "    </tr>\n",
       "    <tr>\n",
       "      <th>710</th>\n",
       "      <td>27</td>\n",
       "      <td>0</td>\n",
       "      <td>0</td>\n",
       "      <td>13.000</td>\n",
       "      <td>0</td>\n",
       "      <td>2</td>\n",
       "      <td>male</td>\n",
       "      <td>S</td>\n",
       "    </tr>\n",
       "    <tr>\n",
       "      <th>711</th>\n",
       "      <td>19</td>\n",
       "      <td>0</td>\n",
       "      <td>0</td>\n",
       "      <td>30.000</td>\n",
       "      <td>1</td>\n",
       "      <td>1</td>\n",
       "      <td>female</td>\n",
       "      <td>S</td>\n",
       "    </tr>\n",
       "    <tr>\n",
       "      <th>712</th>\n",
       "      <td>26</td>\n",
       "      <td>0</td>\n",
       "      <td>0</td>\n",
       "      <td>30.000</td>\n",
       "      <td>1</td>\n",
       "      <td>1</td>\n",
       "      <td>male</td>\n",
       "      <td>C</td>\n",
       "    </tr>\n",
       "    <tr>\n",
       "      <th>713</th>\n",
       "      <td>32</td>\n",
       "      <td>0</td>\n",
       "      <td>0</td>\n",
       "      <td>7.750</td>\n",
       "      <td>0</td>\n",
       "      <td>3</td>\n",
       "      <td>male</td>\n",
       "      <td>Q</td>\n",
       "    </tr>\n",
       "  </tbody>\n",
       "</table>\n",
       "<p>714 rows × 8 columns</p>\n",
       "</div>"
      ],
      "text/plain": [
       "     Age  SibSp  Parch    Fare  Survived  Pclass     Sex Embarked\n",
       "0     22      1      0   7.250         0       3    male        S\n",
       "1     38      1      0  50.000         1       1  female        C\n",
       "2     26      0      0   7.925         1       3  female        S\n",
       "3     35      1      0  50.000         1       1  female        S\n",
       "4     35      0      0   8.050         0       3    male        S\n",
       "..   ...    ...    ...     ...       ...     ...     ...      ...\n",
       "709   39      0      5  29.125         0       3  female        Q\n",
       "710   27      0      0  13.000         0       2    male        S\n",
       "711   19      0      0  30.000         1       1  female        S\n",
       "712   26      0      0  30.000         1       1    male        C\n",
       "713   32      0      0   7.750         0       3    male        Q\n",
       "\n",
       "[714 rows x 8 columns]"
      ]
     },
     "execution_count": 27,
     "metadata": {},
     "output_type": "execute_result"
    }
   ],
   "source": [
    "abt"
   ]
  },
  {
   "cell_type": "code",
   "execution_count": 30,
   "id": "0f1b8e24-5a71-4bde-a9a5-5d30dd5f349d",
   "metadata": {
    "execution": {
     "iopub.execute_input": "2025-04-25T04:05:47.429472Z",
     "iopub.status.busy": "2025-04-25T04:05:47.428599Z",
     "iopub.status.idle": "2025-04-25T04:05:47.439639Z",
     "shell.execute_reply": "2025-04-25T04:05:47.438022Z",
     "shell.execute_reply.started": "2025-04-25T04:05:47.429368Z"
    }
   },
   "outputs": [],
   "source": [
    "shap_data = test_data.copy()\n",
    "shap_data.loc[:, 'Survived'] = 0"
   ]
  },
  {
   "cell_type": "code",
   "execution_count": 36,
   "id": "70da5478-ec92-4137-a438-6e0a95871dc9",
   "metadata": {
    "execution": {
     "iopub.execute_input": "2025-04-25T04:07:18.421678Z",
     "iopub.status.busy": "2025-04-25T04:07:18.420248Z",
     "iopub.status.idle": "2025-04-25T04:07:18.997849Z",
     "shell.execute_reply": "2025-04-25T04:07:18.995928Z",
     "shell.execute_reply.started": "2025-04-25T04:07:18.421594Z"
    }
   },
   "outputs": [
    {
     "data": {
      "application/vnd.jupyter.widget-view+json": {
       "model_id": "2ceae529520c4c9db16cfc119ab10ccd",
       "version_major": 2,
       "version_minor": 0
      },
      "text/plain": [
       "  0%|          | 0/1 [00:00<?, ?it/s]"
      ]
     },
     "metadata": {},
     "output_type": "display_data"
    }
   ],
   "source": [
    "shap_values = explainer(shap_data.loc[:, abt.columns])"
   ]
  },
  {
   "cell_type": "code",
   "execution_count": 38,
   "id": "a8a5c5b3-c63a-488d-8a8c-3ca39075be08",
   "metadata": {
    "execution": {
     "iopub.execute_input": "2025-04-25T04:08:05.558603Z",
     "iopub.status.busy": "2025-04-25T04:08:05.557750Z",
     "iopub.status.idle": "2025-04-25T04:08:05.568868Z",
     "shell.execute_reply": "2025-04-25T04:08:05.566850Z",
     "shell.execute_reply.started": "2025-04-25T04:08:05.558522Z"
    }
   },
   "outputs": [],
   "source": [
    "shap_explanation = shap.Explanation(shap_values.values,\n",
    "                                    shap_values.base_values[0],\n",
    "                                    shap_values.data,\n",
    "                                    feature_names=feature_names)"
   ]
  },
  {
   "cell_type": "code",
   "execution_count": 40,
   "id": "75009a7b-bc39-4733-8fe1-ff5a3073d9e4",
   "metadata": {
    "execution": {
     "iopub.execute_input": "2025-04-25T04:08:23.489295Z",
     "iopub.status.busy": "2025-04-25T04:08:23.487305Z",
     "iopub.status.idle": "2025-04-25T04:08:24.146248Z",
     "shell.execute_reply": "2025-04-25T04:08:24.145162Z",
     "shell.execute_reply.started": "2025-04-25T04:08:23.489208Z"
    }
   },
   "outputs": [
    {
     "data": {
      "image/png": "[encoded data removed]",
      "text/plain": [
       "<Figure size 800x550 with 3 Axes>"
      ]
     },
     "metadata": {},
     "output_type": "display_data"
    }
   ],
   "source": [
    "shap.plots.waterfall(shap_explanation[0])"
   ]
  }
 ],
 "metadata": {
  "kernelspec": {
   "display_name": "Python [conda env:insta-ml]",
   "language": "python",
   "name": "conda-env-insta-ml-py"
  },
  "language_info": {
   "codemirror_mode": {
    "name": "ipython",
    "version": 3
   },
   "file_extension": ".py",
   "mimetype": "text/x-python",
   "name": "python",
   "nbconvert_exporter": "python",
   "pygments_lexer": "ipython3",
   "version": "3.10.17"
  }
 },
 "nbformat": 4,
 "nbformat_minor": 5
}
