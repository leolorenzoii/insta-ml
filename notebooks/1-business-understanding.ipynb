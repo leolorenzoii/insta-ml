{
 "cells": [
  {
   "cell_type": "markdown",
   "id": "994c3dbb-ed5c-4f57-92eb-2cf1d5b0fde5",
   "metadata": {},
   "source": [
    "# Business Understanding"
   ]
  },
  {
   "cell_type": "markdown",
   "id": "828e7522-cd74-479a-8991-a3d4ca68e670",
   "metadata": {},
   "source": [
    "The goal here is to obtain essential information about the business operations, objectives, resources, and challenges that determines the successful planning, implementation, execution of the data science project. You can use these questions as to guide the stakeholder to flesh out the insight needed to determine the data science project with the highest impact in their current business process. Questions preceded by 👩‍💻 mean that they are questions for you as a data scientist."
   ]
  },
  {
   "cell_type": "markdown",
   "id": "712fe55a-4baa-43aa-a90d-dba99bd71c99",
   "metadata": {},
   "source": [
    "## Project Goals and Objectives\n",
    "1. What are the primary objectives of this data science project?\n",
    "1. What specific problems or challenges are you aiming to address with this project?\n",
    "1. What is the current or legacy process in place?\n",
    "   - 👩‍💻 In what ways will your proposed project improve, streamline, or transform it?\n",
    "1. What is your vision of success for this project? How will this success be measured?\n",
    "1. Who are the end-users of this project? How often will they use the project results?\n",
    "1. How do you plan to implement and utilize the results of this project?\n",
    "\n",
    "## Data\n",
    "1. What types of data will be provided for this project? (e.g., transaction data, customer data, credit scores)\n",
    "1. How much data will be available, and over what time period?\n",
    "1. Will we have access to raw data, or will it be pre-processed in any way?\n",
    "1. What are some business definitions we should be aware of?\n",
    "   - Do you have any specific requirements or constraints for the models or algorithms to be developed?\n",
    "1. Do we need to subset the data to a specific cohort of interest?\n",
    "   - 👩‍💻 What filters should you apply to create your cohort of interest? For each of the filter applied, how much of the data points are lost? Do the waterfall numbers make sense for the business?\n",
    "1. Are there any data privacy or security concerns we should be aware of?\n",
    "1. Do the features we believe are related to the outcome actually demonstrate a relationship?\n",
    "  \n",
    "## Technical and Analytical Requirements\n",
    "1. How important is it for you to be able to explain the predictions?\n",
    "1. Are there any preferred tools or technologies you would like us to use?\n",
    "\n",
    "## Collaboration and Communication\n",
    "1. How will the collaboration between our teams be structured?\n",
    "1. Who are the primary points of contact (POCs) on your side?\n",
    "   - 👩‍💻 Who are the POCs from both parties, and what specific aspects of the project are they responsible for? Identifying this early on is important to ensure accountability and clear ownership across the team.\n",
    "1. How frequently do you expect progress updates and meetings?\n",
    "1. Are there any preferred communication channels or project management tools you would like us to use?\n",
    "\n",
    "## Timeline and Deliverables\n",
    "1. What is the expected timeline for the project?\n",
    "    - 👩‍💻 Did you know? Project timelines are often underestimated. On average, experiments show the actual duration ends up being [64% longer](https://freakonomics.com/podcast/heres-why-all-your-projects-are-always-late-and-what-to-do-about-it/) than initially planned. Keep this in mind when creating your Gantt chart.\n",
    "1. Are there any critical milestones or deadlines we need to be aware of?\n",
    "1. What deliverables do you expect at each stage of the project?\n",
    "\n",
    "## Resources and Support\n",
    "1. What resources will your company provide to support this project? (e.g., data access, technical support, domain expertise)\n",
    "1. Are there any specific training or onboarding sessions required for our team?\n",
    "\n",
    "## Legal and Ethical Considerations\n",
    "1. Are there any legal or compliance requirements we need to consider?\n",
    "1. How will intellectual property and data ownership be handled?\n",
    "\n",
    "## Post-Project\n",
    "1. Will there be opportunities for further collaboration or follow-up projects?\n",
    "   - 👩‍💻 Clients may express a wide range of desires for a single project, but it’s important to be discerning about which expectations to include in the current scope to avoid scope creep. One way to manage this is by \"parking\" some requests for future phases. During your initial scoping meeting with the client, did any additional needs or requests come up that warrant a separate scoping session or a future project phase?\n",
    "\n",
    "## Budget and Funding\n",
    "1. What is the budget allocated for this project?\n",
    "1. Are you willing to leverage paid off-the-shelf tools provided we can demonstrate that they can significantly enhance the project's outcome or effciency?\n",
    "1. Are there any funding constraints or considerations we should be aware of?\n",
    "\n",
    "---\n",
    "\n",
    "#### For Migration\n",
    "1. Are there any data sources or features we anticipate will be challenging to process? If so, what considerations or precautions should we keep in mind?\n",
    "    - 👩‍💻 How do you resolve missing values for non-negotiable or important features? Are there existing business definitions that you could use to impute these missing values? Or should you resort to using imputation algorithms?\n",
    "    - 👩‍💻 How do you resolve features that we suspect to have contain anomalies or outliers? How should these be addressed -- by filtering them out, applying minimum/maximum caps, or using other methods?\n",
    "1. What specific data science techniques or methodologies do you envision using for this project? (e.g., statistical analysis, **predictive modeling**, optimization)\n",
    "   - 👩‍💻 What are the model performance metrics you should focus on? How does this translate to a business scorecard metric or a business priority?"
   ]
  }
 ],
 "metadata": {
  "kernelspec": {
   "display_name": "Python [conda env:base] *",
   "language": "python",
   "name": "conda-base-py"
  },
  "language_info": {
   "codemirror_mode": {
    "name": "ipython",
    "version": 3
   },
   "file_extension": ".py",
   "mimetype": "text/x-python",
   "name": "python",
   "nbconvert_exporter": "python",
   "pygments_lexer": "ipython3",
   "version": "3.12.8"
  }
 },
 "nbformat": 4,
 "nbformat_minor": 5
}
