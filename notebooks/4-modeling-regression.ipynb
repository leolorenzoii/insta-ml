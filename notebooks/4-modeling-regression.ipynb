{
 "cells": [
  {
   "cell_type": "code",
   "execution_count": 1,
   "id": "7ef0c55e-7a64-4b5e-8f51-95fb156eb371",
   "metadata": {
    "execution": {
     "iopub.execute_input": "2025-04-25T01:55:21.608075Z",
     "iopub.status.busy": "2025-04-25T01:55:21.606514Z",
     "iopub.status.idle": "2025-04-25T01:55:22.400262Z",
     "shell.execute_reply": "2025-04-25T01:55:22.398366Z",
     "shell.execute_reply.started": "2025-04-25T01:55:21.607987Z"
    }
   },
   "outputs": [],
   "source": [
    "import os\n",
    "import sys\n",
    "from datetime import datetime\n",
    "\n",
    "import yaml\n",
    "import numpy as np\n",
    "import pandas as pd\n",
    "\n",
    "\n",
    "os.chdir('..')\n",
    "sys.path.append(os.getcwd())\n",
    "\n",
    "# Initial configurations\n",
    "config_filepath = 'config.yml'\n",
    "\n",
    "with open(config_filepath, 'r') as f:\n",
    "    config = yaml.safe_load(f)"
   ]
  },
  {
   "cell_type": "markdown",
   "id": "6cb3c3d3-fa0c-4fcb-81b7-2a57cfc3ee39",
   "metadata": {},
   "source": [
    "# Modeling"
   ]
  },
  {
   "cell_type": "code",
   "execution_count": 2,
   "id": "cb241301-4f79-4863-b65a-759621689e14",
   "metadata": {
    "execution": {
     "iopub.execute_input": "2025-04-25T01:55:22.401747Z",
     "iopub.status.busy": "2025-04-25T01:55:22.401394Z",
     "iopub.status.idle": "2025-04-25T01:55:22.413881Z",
     "shell.execute_reply": "2025-04-25T01:55:22.412147Z",
     "shell.execute_reply.started": "2025-04-25T01:55:22.401720Z"
    }
   },
   "outputs": [],
   "source": [
    "abt = pd.read_csv(config['filepaths']['abt'])"
   ]
  },
  {
   "cell_type": "code",
   "execution_count": 3,
   "id": "b16ba3b8-733f-45e2-ade2-b793052575a9",
   "metadata": {
    "execution": {
     "iopub.execute_input": "2025-04-25T01:55:22.655711Z",
     "iopub.status.busy": "2025-04-25T01:55:22.654433Z",
     "iopub.status.idle": "2025-04-25T01:55:22.694888Z",
     "shell.execute_reply": "2025-04-25T01:55:22.692836Z",
     "shell.execute_reply.started": "2025-04-25T01:55:22.655632Z"
    }
   },
   "outputs": [
    {
     "data": {
      "text/html": [
       "<div>\n",
       "<style scoped>\n",
       "    .dataframe tbody tr th:only-of-type {\n",
       "        vertical-align: middle;\n",
       "    }\n",
       "\n",
       "    .dataframe tbody tr th {\n",
       "        vertical-align: top;\n",
       "    }\n",
       "\n",
       "    .dataframe thead th {\n",
       "        text-align: right;\n",
       "    }\n",
       "</style>\n",
       "<table border=\"1\" class=\"dataframe\">\n",
       "  <thead>\n",
       "    <tr style=\"text-align: right;\">\n",
       "      <th></th>\n",
       "      <th>Age</th>\n",
       "      <th>SibSp</th>\n",
       "      <th>Parch</th>\n",
       "      <th>Fare</th>\n",
       "      <th>Survived</th>\n",
       "      <th>Pclass</th>\n",
       "      <th>Sex</th>\n",
       "      <th>Embarked</th>\n",
       "    </tr>\n",
       "  </thead>\n",
       "  <tbody>\n",
       "    <tr>\n",
       "      <th>0</th>\n",
       "      <td>22</td>\n",
       "      <td>1</td>\n",
       "      <td>0</td>\n",
       "      <td>7.250</td>\n",
       "      <td>0</td>\n",
       "      <td>3</td>\n",
       "      <td>male</td>\n",
       "      <td>S</td>\n",
       "    </tr>\n",
       "    <tr>\n",
       "      <th>1</th>\n",
       "      <td>38</td>\n",
       "      <td>1</td>\n",
       "      <td>0</td>\n",
       "      <td>50.000</td>\n",
       "      <td>1</td>\n",
       "      <td>1</td>\n",
       "      <td>female</td>\n",
       "      <td>C</td>\n",
       "    </tr>\n",
       "    <tr>\n",
       "      <th>2</th>\n",
       "      <td>26</td>\n",
       "      <td>0</td>\n",
       "      <td>0</td>\n",
       "      <td>7.925</td>\n",
       "      <td>1</td>\n",
       "      <td>3</td>\n",
       "      <td>female</td>\n",
       "      <td>S</td>\n",
       "    </tr>\n",
       "    <tr>\n",
       "      <th>3</th>\n",
       "      <td>35</td>\n",
       "      <td>1</td>\n",
       "      <td>0</td>\n",
       "      <td>50.000</td>\n",
       "      <td>1</td>\n",
       "      <td>1</td>\n",
       "      <td>female</td>\n",
       "      <td>S</td>\n",
       "    </tr>\n",
       "    <tr>\n",
       "      <th>4</th>\n",
       "      <td>35</td>\n",
       "      <td>0</td>\n",
       "      <td>0</td>\n",
       "      <td>8.050</td>\n",
       "      <td>0</td>\n",
       "      <td>3</td>\n",
       "      <td>male</td>\n",
       "      <td>S</td>\n",
       "    </tr>\n",
       "    <tr>\n",
       "      <th>...</th>\n",
       "      <td>...</td>\n",
       "      <td>...</td>\n",
       "      <td>...</td>\n",
       "      <td>...</td>\n",
       "      <td>...</td>\n",
       "      <td>...</td>\n",
       "      <td>...</td>\n",
       "      <td>...</td>\n",
       "    </tr>\n",
       "    <tr>\n",
       "      <th>709</th>\n",
       "      <td>39</td>\n",
       "      <td>0</td>\n",
       "      <td>5</td>\n",
       "      <td>29.125</td>\n",
       "      <td>0</td>\n",
       "      <td>3</td>\n",
       "      <td>female</td>\n",
       "      <td>Q</td>\n",
       "    </tr>\n",
       "    <tr>\n",
       "      <th>710</th>\n",
       "      <td>27</td>\n",
       "      <td>0</td>\n",
       "      <td>0</td>\n",
       "      <td>13.000</td>\n",
       "      <td>0</td>\n",
       "      <td>2</td>\n",
       "      <td>male</td>\n",
       "      <td>S</td>\n",
       "    </tr>\n",
       "    <tr>\n",
       "      <th>711</th>\n",
       "      <td>19</td>\n",
       "      <td>0</td>\n",
       "      <td>0</td>\n",
       "      <td>30.000</td>\n",
       "      <td>1</td>\n",
       "      <td>1</td>\n",
       "      <td>female</td>\n",
       "      <td>S</td>\n",
       "    </tr>\n",
       "    <tr>\n",
       "      <th>712</th>\n",
       "      <td>26</td>\n",
       "      <td>0</td>\n",
       "      <td>0</td>\n",
       "      <td>30.000</td>\n",
       "      <td>1</td>\n",
       "      <td>1</td>\n",
       "      <td>male</td>\n",
       "      <td>C</td>\n",
       "    </tr>\n",
       "    <tr>\n",
       "      <th>713</th>\n",
       "      <td>32</td>\n",
       "      <td>0</td>\n",
       "      <td>0</td>\n",
       "      <td>7.750</td>\n",
       "      <td>0</td>\n",
       "      <td>3</td>\n",
       "      <td>male</td>\n",
       "      <td>Q</td>\n",
       "    </tr>\n",
       "  </tbody>\n",
       "</table>\n",
       "<p>714 rows × 8 columns</p>\n",
       "</div>"
      ],
      "text/plain": [
       "     Age  SibSp  Parch    Fare  Survived  Pclass     Sex Embarked\n",
       "0     22      1      0   7.250         0       3    male        S\n",
       "1     38      1      0  50.000         1       1  female        C\n",
       "2     26      0      0   7.925         1       3  female        S\n",
       "3     35      1      0  50.000         1       1  female        S\n",
       "4     35      0      0   8.050         0       3    male        S\n",
       "..   ...    ...    ...     ...       ...     ...     ...      ...\n",
       "709   39      0      5  29.125         0       3  female        Q\n",
       "710   27      0      0  13.000         0       2    male        S\n",
       "711   19      0      0  30.000         1       1  female        S\n",
       "712   26      0      0  30.000         1       1    male        C\n",
       "713   32      0      0   7.750         0       3    male        Q\n",
       "\n",
       "[714 rows x 8 columns]"
      ]
     },
     "execution_count": 3,
     "metadata": {},
     "output_type": "execute_result"
    }
   ],
   "source": [
    "abt"
   ]
  },
  {
   "cell_type": "markdown",
   "id": "e3b5673d-dbd5-45bb-8aed-fac6806bb2a5",
   "metadata": {},
   "source": [
    "## 1 Establishing a Baseline"
   ]
  },
  {
   "cell_type": "code",
   "execution_count": 21,
   "id": "21ad2121-cab0-46f9-a4d5-2772d5278bce",
   "metadata": {
    "execution": {
     "iopub.execute_input": "2025-04-25T02:01:21.864298Z",
     "iopub.status.busy": "2025-04-25T02:01:21.862966Z",
     "iopub.status.idle": "2025-04-25T02:01:21.873265Z",
     "shell.execute_reply": "2025-04-25T02:01:21.870778Z",
     "shell.execute_reply.started": "2025-04-25T02:01:21.864221Z"
    }
   },
   "outputs": [],
   "source": [
    "from sklearn.metrics import mean_absolute_error, root_mean_squared_error, r2_score"
   ]
  },
  {
   "cell_type": "code",
   "execution_count": 4,
   "id": "5f5231d0-0fc2-48f7-b732-ba12c0a8b6f7",
   "metadata": {
    "execution": {
     "iopub.execute_input": "2025-04-25T01:55:29.163512Z",
     "iopub.status.busy": "2025-04-25T01:55:29.162689Z",
     "iopub.status.idle": "2025-04-25T01:55:29.172570Z",
     "shell.execute_reply": "2025-04-25T01:55:29.170124Z",
     "shell.execute_reply.started": "2025-04-25T01:55:29.163439Z"
    }
   },
   "outputs": [],
   "source": [
    "label = 'Fare'"
   ]
  },
  {
   "cell_type": "code",
   "execution_count": 5,
   "id": "f1f32228-772e-477c-a0c3-58fcf86a2333",
   "metadata": {
    "execution": {
     "iopub.execute_input": "2025-04-25T01:56:02.389549Z",
     "iopub.status.busy": "2025-04-25T01:56:02.388710Z",
     "iopub.status.idle": "2025-04-25T01:56:02.397935Z",
     "shell.execute_reply": "2025-04-25T01:56:02.396394Z",
     "shell.execute_reply.started": "2025-04-25T01:56:02.389472Z"
    }
   },
   "outputs": [],
   "source": [
    "naive_prediction = abt[label].mean()"
   ]
  },
  {
   "cell_type": "code",
   "execution_count": 6,
   "id": "bc431f1b-0bb0-4e5a-af3d-073af9c828d8",
   "metadata": {
    "execution": {
     "iopub.execute_input": "2025-04-25T01:56:05.621710Z",
     "iopub.status.busy": "2025-04-25T01:56:05.620909Z",
     "iopub.status.idle": "2025-04-25T01:56:05.633290Z",
     "shell.execute_reply": "2025-04-25T01:56:05.631180Z",
     "shell.execute_reply.started": "2025-04-25T01:56:05.621636Z"
    }
   },
   "outputs": [
    {
     "data": {
      "text/plain": [
       "22.831097759103642"
      ]
     },
     "execution_count": 6,
     "metadata": {},
     "output_type": "execute_result"
    }
   ],
   "source": [
    "naive_prediction"
   ]
  },
  {
   "cell_type": "code",
   "execution_count": 13,
   "id": "05d0865c-69bc-4cf1-aa45-f555e7085483",
   "metadata": {
    "execution": {
     "iopub.execute_input": "2025-04-25T01:59:04.128363Z",
     "iopub.status.busy": "2025-04-25T01:59:04.127511Z",
     "iopub.status.idle": "2025-04-25T01:59:04.144228Z",
     "shell.execute_reply": "2025-04-25T01:59:04.142618Z",
     "shell.execute_reply.started": "2025-04-25T01:59:04.128288Z"
    }
   },
   "outputs": [
    {
     "data": {
      "text/plain": [
       "14.119048114147619"
      ]
     },
     "execution_count": 13,
     "metadata": {},
     "output_type": "execute_result"
    }
   ],
   "source": [
    "mean_absolute_error(abt[label], np.ones(len(abt))*naive_prediction)"
   ]
  },
  {
   "cell_type": "code",
   "execution_count": 16,
   "id": "13fc92fb-4851-42ea-833d-b4496fe09091",
   "metadata": {
    "execution": {
     "iopub.execute_input": "2025-04-25T01:59:47.816888Z",
     "iopub.status.busy": "2025-04-25T01:59:47.816023Z",
     "iopub.status.idle": "2025-04-25T01:59:47.832548Z",
     "shell.execute_reply": "2025-04-25T01:59:47.830669Z",
     "shell.execute_reply.started": "2025-04-25T01:59:47.816814Z"
    }
   },
   "outputs": [
    {
     "data": {
      "text/plain": [
       "16.201047279407675"
      ]
     },
     "execution_count": 16,
     "metadata": {},
     "output_type": "execute_result"
    }
   ],
   "source": [
    "root_mean_squared_error(abt[label], np.ones(len(abt))*naive_prediction)"
   ]
  },
  {
   "cell_type": "markdown",
   "id": "1fa57af2-ea6e-4e7f-8375-4156347b29b8",
   "metadata": {},
   "source": [
    "## 2 Data Segregation"
   ]
  },
  {
   "cell_type": "code",
   "execution_count": 17,
   "id": "481448da-37dc-457b-b62e-967fd8f0bc58",
   "metadata": {
    "execution": {
     "iopub.execute_input": "2025-04-25T01:59:52.967425Z",
     "iopub.status.busy": "2025-04-25T01:59:52.966516Z",
     "iopub.status.idle": "2025-04-25T01:59:52.981882Z",
     "shell.execute_reply": "2025-04-25T01:59:52.980116Z",
     "shell.execute_reply.started": "2025-04-25T01:59:52.967324Z"
    }
   },
   "outputs": [],
   "source": [
    "train_size = 0.80\n",
    "random_state = 1337\n",
    "\n",
    "train_data = abt.sample(frac=0.80, random_state=random_state)\n",
    "test_data = abt.loc[~abt.index.isin(train_data.index)]"
   ]
  },
  {
   "cell_type": "markdown",
   "id": "6ef9b3d5-0b32-4b83-93ae-b90b93c17c40",
   "metadata": {},
   "source": [
    "## 3 Model Training"
   ]
  },
  {
   "cell_type": "code",
   "execution_count": 18,
   "id": "b4ffa79e-5ab2-47b2-a06f-86d14a3d1ef0",
   "metadata": {
    "execution": {
     "iopub.execute_input": "2025-04-25T01:59:54.691579Z",
     "iopub.status.busy": "2025-04-25T01:59:54.690192Z",
     "iopub.status.idle": "2025-04-25T01:59:55.838391Z",
     "shell.execute_reply": "2025-04-25T01:59:55.836425Z",
     "shell.execute_reply.started": "2025-04-25T01:59:54.691504Z"
    }
   },
   "outputs": [],
   "source": [
    "from autogluon.tabular import TabularDataset, TabularPredictor"
   ]
  },
  {
   "cell_type": "code",
   "execution_count": 19,
   "id": "4a73e6e7-bb2d-434a-8a2c-19346ef71fa7",
   "metadata": {
    "execution": {
     "iopub.execute_input": "2025-04-25T01:59:55.841463Z",
     "iopub.status.busy": "2025-04-25T01:59:55.840721Z",
     "iopub.status.idle": "2025-04-25T01:59:55.848447Z",
     "shell.execute_reply": "2025-04-25T01:59:55.846890Z",
     "shell.execute_reply.started": "2025-04-25T01:59:55.841414Z"
    }
   },
   "outputs": [],
   "source": [
    "train_dataset = TabularDataset(train_data)\n",
    "test_dataset = TabularDataset(test_data)"
   ]
  },
  {
   "cell_type": "markdown",
   "id": "2a9cac8f-aa74-4630-8379-a631c6dbb848",
   "metadata": {},
   "source": [
    "### Automatic"
   ]
  },
  {
   "cell_type": "code",
   "execution_count": 23,
   "id": "f4052e8a-cc2b-40cb-8f98-a5974fd44dd7",
   "metadata": {
    "execution": {
     "iopub.execute_input": "2025-04-25T02:03:57.773862Z",
     "iopub.status.busy": "2025-04-25T02:03:57.771869Z",
     "iopub.status.idle": "2025-04-25T02:04:58.417031Z",
     "shell.execute_reply": "2025-04-25T02:04:58.415984Z",
     "shell.execute_reply.started": "2025-04-25T02:03:57.773776Z"
    },
    "scrolled": true
   },
   "outputs": [
    {
     "name": "stderr",
     "output_type": "stream",
     "text": [
      "Verbosity: 2 (Standard Logging)\n",
      "=================== System Info ===================\n",
      "AutoGluon Version:  1.2\n",
      "Python Version:     3.10.17\n",
      "Operating System:   Linux\n",
      "Platform Machine:   x86_64\n",
      "Platform Version:   #52-Ubuntu SMP PREEMPT_DYNAMIC Thu Dec  5 13:09:44 UTC 2024\n",
      "CPU Count:          32\n",
      "Memory Avail:       234.97 GB / 251.52 GB (93.4%)\n",
      "Disk Space Avail:   3801.79 GB / 71394.83 GB (5.3%)\n",
      "===================================================\n",
      "Presets specified: ['best_quality']\n",
      "Stack configuration (auto_stack=True): num_stack_levels=0, num_bag_folds=8, num_bag_sets=1\n",
      "Beginning AutoGluon training ... Time limit = 60s\n",
      "AutoGluon will save models to \"/home/llorenzo/year-2025/Acads/msds2025-ft/adhoc/insta-ml/models/20250425-1003\"\n",
      "Train Data Rows:    571\n",
      "Train Data Columns: 7\n",
      "Label Column:       Fare\n",
      "AutoGluon infers your prediction problem is: 'regression' (because dtype of label-column == float and many unique label-values observed).\n",
      "\tLabel info (max, min, mean, stddev): (50.0, 0.0, 22.92221, 16.34059)\n",
      "\tIf 'regression' is not the correct problem_type, please manually specify the problem_type parameter during Predictor init (You may specify problem_type as one of: ['binary', 'multiclass', 'regression', 'quantile'])\n",
      "Problem Type:       regression\n",
      "Preprocessing data ...\n",
      "Using Feature Generators to preprocess the data ...\n",
      "Fitting AutoMLPipelineFeatureGenerator...\n",
      "\tAvailable Memory:                    240606.79 MB\n",
      "\tTrain Data (Original)  Memory Usage: 0.09 MB (0.0% of available memory)\n",
      "\tInferring data type of each feature based on column values. Set feature_metadata_in to manually specify special dtypes of the features.\n",
      "\tStage 1 Generators:\n",
      "\t\tFitting AsTypeFeatureGenerator...\n",
      "\t\t\tNote: Converting 2 features to boolean dtype as they only contain 2 unique values.\n",
      "\tStage 2 Generators:\n",
      "\t\tFitting FillNaFeatureGenerator...\n",
      "\tStage 3 Generators:\n",
      "\t\tFitting IdentityFeatureGenerator...\n",
      "\t\tFitting CategoryFeatureGenerator...\n",
      "\t\t\tFitting CategoryMemoryMinimizeFeatureGenerator...\n",
      "\tStage 4 Generators:\n",
      "\t\tFitting DropUniqueFeatureGenerator...\n",
      "\tStage 5 Generators:\n",
      "\t\tFitting DropDuplicatesFeatureGenerator...\n",
      "\tTypes of features in original data (raw dtype, special dtypes):\n",
      "\t\t('int', [])    : 5 | ['Age', 'SibSp', 'Parch', 'Survived', 'Pclass']\n",
      "\t\t('object', []) : 2 | ['Sex', 'Embarked']\n",
      "\tTypes of features in processed data (raw dtype, special dtypes):\n",
      "\t\t('category', [])  : 1 | ['Embarked']\n",
      "\t\t('int', [])       : 4 | ['Age', 'SibSp', 'Parch', 'Pclass']\n",
      "\t\t('int', ['bool']) : 2 | ['Survived', 'Sex']\n",
      "\t0.1s = Fit runtime\n",
      "\t7 features in original data used to generate 7 features in processed data.\n",
      "\tTrain Data (Processed) Memory Usage: 0.02 MB (0.0% of available memory)\n",
      "Data preprocessing and feature engineering runtime = 0.1s ...\n",
      "AutoGluon will gauge predictive performance using evaluation metric: 'root_mean_squared_error'\n",
      "\tThis metric's sign has been flipped to adhere to being higher_is_better. The metric score can be multiplied by -1 to get the metric value.\n",
      "\tTo change this, specify the eval_metric parameter of Predictor()\n",
      "Large model count detected (112 configs) ... Only displaying the first 3 models of each family. To see all, set `verbosity=3`.\n",
      "User-specified model hyperparameters to be fit:\n",
      "{\n",
      "\t'NN_TORCH': [{}, {'activation': 'elu', 'dropout_prob': 0.10077639529843717, 'hidden_size': 108, 'learning_rate': 0.002735937344002146, 'num_layers': 4, 'use_batchnorm': True, 'weight_decay': 1.356433327634438e-12, 'ag_args': {'name_suffix': '_r79', 'priority': -2}}, {'activation': 'elu', 'dropout_prob': 0.11897478034205347, 'hidden_size': 213, 'learning_rate': 0.0010474382260641949, 'num_layers': 4, 'use_batchnorm': False, 'weight_decay': 5.594471067786272e-10, 'ag_args': {'name_suffix': '_r22', 'priority': -7}}],\n",
      "\t'GBM': [{'extra_trees': True, 'ag_args': {'name_suffix': 'XT'}}, {}, {'learning_rate': 0.03, 'num_leaves': 128, 'feature_fraction': 0.9, 'min_data_in_leaf': 3, 'ag_args': {'name_suffix': 'Large', 'priority': 0, 'hyperparameter_tune_kwargs': None}}],\n",
      "\t'CAT': [{}, {'depth': 6, 'grow_policy': 'SymmetricTree', 'l2_leaf_reg': 2.1542798306067823, 'learning_rate': 0.06864209415792857, 'max_ctr_complexity': 4, 'one_hot_max_size': 10, 'ag_args': {'name_suffix': '_r177', 'priority': -1}}, {'depth': 8, 'grow_policy': 'Depthwise', 'l2_leaf_reg': 2.7997999596449104, 'learning_rate': 0.031375015734637225, 'max_ctr_complexity': 2, 'one_hot_max_size': 3, 'ag_args': {'name_suffix': '_r9', 'priority': -5}}],\n",
      "\t'XGB': [{}, {'colsample_bytree': 0.6917311125174739, 'enable_categorical': False, 'learning_rate': 0.018063876087523967, 'max_depth': 10, 'min_child_weight': 0.6028633586934382, 'ag_args': {'name_suffix': '_r33', 'priority': -8}}, {'colsample_bytree': 0.6628423832084077, 'enable_categorical': False, 'learning_rate': 0.08775715546881824, 'max_depth': 5, 'min_child_weight': 0.6294123374222513, 'ag_args': {'name_suffix': '_r89', 'priority': -16}}],\n",
      "\t'FASTAI': [{}, {'bs': 256, 'emb_drop': 0.5411770367537934, 'epochs': 43, 'layers': [800, 400], 'lr': 0.01519848858318159, 'ps': 0.23782946566604385, 'ag_args': {'name_suffix': '_r191', 'priority': -4}}, {'bs': 2048, 'emb_drop': 0.05070411322605811, 'epochs': 29, 'layers': [200, 100], 'lr': 0.08974235041576624, 'ps': 0.10393466140748028, 'ag_args': {'name_suffix': '_r102', 'priority': -11}}],\n",
      "\t'RF': [{'criterion': 'gini', 'ag_args': {'name_suffix': 'Gini', 'problem_types': ['binary', 'multiclass']}}, {'criterion': 'entropy', 'ag_args': {'name_suffix': 'Entr', 'problem_types': ['binary', 'multiclass']}}, {'criterion': 'squared_error', 'ag_args': {'name_suffix': 'MSE', 'problem_types': ['regression', 'quantile']}}],\n",
      "\t'XT': [{'criterion': 'gini', 'ag_args': {'name_suffix': 'Gini', 'problem_types': ['binary', 'multiclass']}}, {'criterion': 'entropy', 'ag_args': {'name_suffix': 'Entr', 'problem_types': ['binary', 'multiclass']}}, {'criterion': 'squared_error', 'ag_args': {'name_suffix': 'MSE', 'problem_types': ['regression', 'quantile']}}],\n",
      "\t'KNN': [{'weights': 'uniform', 'ag_args': {'name_suffix': 'Unif'}}, {'weights': 'distance', 'ag_args': {'name_suffix': 'Dist'}}],\n",
      "}\n",
      "Fitting 108 L1 models, fit_strategy=\"sequential\" ...\n",
      "Fitting model: KNeighborsUnif_BAG_L1 ... Training model for up to 59.90s of the 59.89s of remaining time.\n",
      "\t-10.7655\t = Validation score   (-root_mean_squared_error)\n",
      "\t0.01s\t = Training   runtime\n",
      "\t0.04s\t = Validation runtime\n",
      "Fitting model: KNeighborsDist_BAG_L1 ... Training model for up to 59.82s of the 59.81s of remaining time.\n",
      "\t-10.7481\t = Validation score   (-root_mean_squared_error)\n",
      "\t0.01s\t = Training   runtime\n",
      "\t0.04s\t = Validation runtime\n",
      "Fitting model: LightGBMXT_BAG_L1 ... Training model for up to 59.73s of the 59.72s of remaining time.\n",
      "\tFitting 8 child models (S1F1 - S1F8) | Fitting with ParallelLocalFoldFittingStrategy (8 workers, per: cpus=4, gpus=0, memory=0.00%)\n",
      "\t-8.1903\t = Validation score   (-root_mean_squared_error)\n",
      "\t1.57s\t = Training   runtime\n",
      "\t0.07s\t = Validation runtime\n",
      "Fitting model: LightGBM_BAG_L1 ... Training model for up to 48.89s of the 48.87s of remaining time.\n",
      "\tFitting 8 child models (S1F1 - S1F8) | Fitting with ParallelLocalFoldFittingStrategy (8 workers, per: cpus=4, gpus=0, memory=0.00%)\n",
      "\t-7.4199\t = Validation score   (-root_mean_squared_error)\n",
      "\t1.01s\t = Training   runtime\n",
      "\t0.03s\t = Validation runtime\n",
      "Fitting model: RandomForestMSE_BAG_L1 ... Training model for up to 45.45s of the 45.44s of remaining time.\n",
      "\t-7.1637\t = Validation score   (-root_mean_squared_error)\n",
      "\t1.4s\t = Training   runtime\n",
      "\t0.14s\t = Validation runtime\n",
      "Fitting model: CatBoost_BAG_L1 ... Training model for up to 43.76s of the 43.75s of remaining time.\n",
      "\tFitting 8 child models (S1F1 - S1F8) | Fitting with ParallelLocalFoldFittingStrategy (8 workers, per: cpus=4, gpus=0, memory=0.00%)\n",
      "\t-7.1482\t = Validation score   (-root_mean_squared_error)\n",
      "\t2.98s\t = Training   runtime\n",
      "\t0.03s\t = Validation runtime\n",
      "Fitting model: ExtraTreesMSE_BAG_L1 ... Training model for up to 38.34s of the 38.33s of remaining time.\n",
      "\t-6.9397\t = Validation score   (-root_mean_squared_error)\n",
      "\t1.17s\t = Training   runtime\n",
      "\t0.15s\t = Validation runtime\n",
      "Fitting model: NeuralNetFastAI_BAG_L1 ... Training model for up to 36.77s of the 36.75s of remaining time.\n",
      "\tFitting 8 child models (S1F1 - S1F8) | Fitting with ParallelLocalFoldFittingStrategy (8 workers, per: cpus=4, gpus=0, memory=0.00%)\n",
      "\t-8.0233\t = Validation score   (-root_mean_squared_error)\n",
      "\t9.36s\t = Training   runtime\n",
      "\t0.32s\t = Validation runtime\n",
      "Fitting model: XGBoost_BAG_L1 ... Training model for up to 24.97s of the 24.96s of remaining time.\n",
      "\tFitting 8 child models (S1F1 - S1F8) | Fitting with ParallelLocalFoldFittingStrategy (8 workers, per: cpus=4, gpus=0, memory=0.00%)\n",
      "\t-7.11\t = Validation score   (-root_mean_squared_error)\n",
      "\t1.12s\t = Training   runtime\n",
      "\t0.09s\t = Validation runtime\n",
      "Fitting model: NeuralNetTorch_BAG_L1 ... Training model for up to 21.34s of the 21.33s of remaining time.\n",
      "\tFitting 8 child models (S1F1 - S1F8) | Fitting with ParallelLocalFoldFittingStrategy (8 workers, per: cpus=4, gpus=0, memory=0.00%)\n",
      "\t-6.9131\t = Validation score   (-root_mean_squared_error)\n",
      "\t19.16s\t = Training   runtime\n",
      "\t0.46s\t = Validation runtime\n",
      "Fitting model: WeightedEnsemble_L2 ... Training model for up to 59.90s of the -0.53s of remaining time.\n",
      "\tEnsemble Weights: {'NeuralNetTorch_BAG_L1': 0.478, 'ExtraTreesMSE_BAG_L1': 0.435, 'XGBoost_BAG_L1': 0.087}\n",
      "\t-6.5681\t = Validation score   (-root_mean_squared_error)\n",
      "\t0.02s\t = Training   runtime\n",
      "\t0.0s\t = Validation runtime\n",
      "AutoGluon training complete, total runtime = 60.59s ... Best model: WeightedEnsemble_L2 | Estimated inference throughput: 125.2 rows/s (72 batch size)\n",
      "TabularPredictor saved. To load, use: predictor = TabularPredictor.load(\"/home/llorenzo/year-2025/Acads/msds2025-ft/adhoc/insta-ml/models/20250425-1003\")\n"
     ]
    }
   ],
   "source": [
    "metric = 'rmse'\n",
    "presets = 'best_quality'\n",
    "time_limit = 60 # in seconds\n",
    "save_path = f'models/{datetime.now().strftime(\"%Y%m%d-%H%M\")}'\n",
    "verbosity = 2\n",
    "\n",
    "predictor = TabularPredictor(label=label, eval_metric=metric, path=save_path)\n",
    "predictor = predictor.fit(\n",
    "    train_dataset, time_limit=time_limit, presets=presets, verbosity=verbosity,\n",
    "    dynamic_stacking=False\n",
    ")"
   ]
  },
  {
   "cell_type": "markdown",
   "id": "881f7db5-a69f-4b7f-af80-91b1136787ee",
   "metadata": {},
   "source": [
    "### Manual"
   ]
  },
  {
   "cell_type": "code",
   "execution_count": 24,
   "id": "75078a50-67e9-469e-b372-b1be4dc45457",
   "metadata": {
    "execution": {
     "iopub.execute_input": "2025-04-25T02:05:07.826645Z",
     "iopub.status.busy": "2025-04-25T02:05:07.824201Z",
     "iopub.status.idle": "2025-04-25T02:05:07.837374Z",
     "shell.execute_reply": "2025-04-25T02:05:07.835473Z",
     "shell.execute_reply.started": "2025-04-25T02:05:07.826512Z"
    }
   },
   "outputs": [],
   "source": [
    "from autogluon.tabular.configs.hyperparameter_configs import get_hyperparameter_config"
   ]
  },
  {
   "cell_type": "code",
   "execution_count": 25,
   "id": "380224ad-2331-4c63-8fc0-ce447abc4bf0",
   "metadata": {
    "execution": {
     "iopub.execute_input": "2025-04-25T02:05:08.361742Z",
     "iopub.status.busy": "2025-04-25T02:05:08.360900Z",
     "iopub.status.idle": "2025-04-25T02:05:08.380585Z",
     "shell.execute_reply": "2025-04-25T02:05:08.378866Z",
     "shell.execute_reply.started": "2025-04-25T02:05:08.361668Z"
    }
   },
   "outputs": [
    {
     "data": {
      "text/plain": [
       "{'NN_TORCH': {},\n",
       " 'GBM': [{'extra_trees': True, 'ag_args': {'name_suffix': 'XT'}},\n",
       "  {},\n",
       "  {'learning_rate': 0.03,\n",
       "   'num_leaves': 128,\n",
       "   'feature_fraction': 0.9,\n",
       "   'min_data_in_leaf': 3,\n",
       "   'ag_args': {'name_suffix': 'Large',\n",
       "    'priority': 0,\n",
       "    'hyperparameter_tune_kwargs': None}}],\n",
       " 'CAT': {},\n",
       " 'XGB': {},\n",
       " 'FASTAI': {},\n",
       " 'RF': [{'criterion': 'gini',\n",
       "   'ag_args': {'name_suffix': 'Gini',\n",
       "    'problem_types': ['binary', 'multiclass']}},\n",
       "  {'criterion': 'entropy',\n",
       "   'ag_args': {'name_suffix': 'Entr',\n",
       "    'problem_types': ['binary', 'multiclass']}},\n",
       "  {'criterion': 'squared_error',\n",
       "   'ag_args': {'name_suffix': 'MSE',\n",
       "    'problem_types': ['regression', 'quantile']}}],\n",
       " 'XT': [{'criterion': 'gini',\n",
       "   'ag_args': {'name_suffix': 'Gini',\n",
       "    'problem_types': ['binary', 'multiclass']}},\n",
       "  {'criterion': 'entropy',\n",
       "   'ag_args': {'name_suffix': 'Entr',\n",
       "    'problem_types': ['binary', 'multiclass']}},\n",
       "  {'criterion': 'squared_error',\n",
       "   'ag_args': {'name_suffix': 'MSE',\n",
       "    'problem_types': ['regression', 'quantile']}}],\n",
       " 'KNN': [{'weights': 'uniform', 'ag_args': {'name_suffix': 'Unif'}},\n",
       "  {'weights': 'distance', 'ag_args': {'name_suffix': 'Dist'}}]}"
      ]
     },
     "execution_count": 25,
     "metadata": {},
     "output_type": "execute_result"
    }
   ],
   "source": [
    "get_hyperparameter_config('default')"
   ]
  },
  {
   "cell_type": "code",
   "execution_count": 26,
   "id": "7e6eb757-a433-4eca-b24a-802b8f6e56c3",
   "metadata": {
    "execution": {
     "iopub.execute_input": "2025-04-25T02:05:08.985194Z",
     "iopub.status.busy": "2025-04-25T02:05:08.984701Z",
     "iopub.status.idle": "2025-04-25T02:05:08.996827Z",
     "shell.execute_reply": "2025-04-25T02:05:08.994700Z",
     "shell.execute_reply.started": "2025-04-25T02:05:08.985148Z"
    }
   },
   "outputs": [],
   "source": [
    "from autogluon.common import space\n",
    "\n",
    "nn_options = {  # specifies non-default hyperparameter values for neural network models\n",
    "    'num_epochs': 10,  # number of training epochs (controls training time of NN models)\n",
    "    'learning_rate': space.Real(1e-4, 1e-2, default=5e-4, log=True),  # learning rate used in training (real-valued hyperparameter searched on log-scale)\n",
    "    'activation': space.Categorical('relu', 'softrelu', 'tanh'),  # activation function used in NN (categorical hyperparameter, default = first entry)\n",
    "    'dropout_prob': space.Real(0.0, 0.5, default=0.1),  # dropout probability (real-valued hyperparameter)\n",
    "}\n",
    "\n",
    "gbm_options = {  # specifies non-default hyperparameter values for lightGBM gradient boosted trees\n",
    "    'num_boost_round': 100,  # number of boosting rounds (controls training time of GBM models)\n",
    "    'num_leaves': space.Int(lower=26, upper=66, default=36),  # number of leaves in trees (integer hyperparameter)\n",
    "}\n",
    "\n",
    "hyperparameters = {  # hyperparameters of each model type\n",
    "                   'GBM': gbm_options,\n",
    "                   'NN_TORCH': nn_options,  # NOTE: comment this line out if you get errors on Mac OSX\n",
    "                  }  # When these keys are missing from hyperparameters dict, no models of that type are trained\n",
    "\n",
    "search_strategy = 'auto'  # to tune hyperparameters using random search routine with a local scheduler\n",
    "\n",
    "hyperparameter_tune_kwargs = {  # HPO is not performed unless hyperparameter_tune_kwargs is specified\n",
    "    'scheduler': 'local',\n",
    "    'searcher': search_strategy,\n",
    "}  # Refer to TabularPredictor.fit docstring for all valid values"
   ]
  },
  {
   "cell_type": "code",
   "execution_count": 28,
   "id": "e4ae1c3d-5642-4127-9354-763c0df92b93",
   "metadata": {
    "execution": {
     "iopub.execute_input": "2025-04-25T02:05:13.811735Z",
     "iopub.status.busy": "2025-04-25T02:05:13.810896Z",
     "iopub.status.idle": "2025-04-25T02:05:46.489689Z",
     "shell.execute_reply": "2025-04-25T02:05:46.488821Z",
     "shell.execute_reply.started": "2025-04-25T02:05:13.811661Z"
    },
    "scrolled": true
   },
   "outputs": [
    {
     "data": {
      "text/html": [],
      "text/plain": [
       "<IPython.core.display.HTML object>"
      ]
     },
     "metadata": {},
     "output_type": "display_data"
    },
    {
     "name": "stderr",
     "output_type": "stream",
     "text": [
      "No model was trained during hyperparameter tuning NeuralNetTorch_BAG_L1... Skipping this model.\n",
      "Fitting model: WeightedEnsemble_L2 ... Training model for up to 29.90s of the -2.58s of remaining time.\n",
      "\tEnsemble Weights: {'LightGBM_BAG_L1/T2': 1.0}\n",
      "\t-7.399\t = Validation score   (-root_mean_squared_error)\n",
      "\t0.0s\t = Training   runtime\n",
      "\t0.0s\t = Validation runtime\n",
      "AutoGluon training complete, total runtime = 32.63s ... Best model: WeightedEnsemble_L2 | Estimated inference throughput: 2809.9 rows/s (72 batch size)\n",
      "TabularPredictor saved. To load, use: predictor = TabularPredictor.load(\"/home/llorenzo/year-2025/Acads/msds2025-ft/adhoc/insta-ml/models/20250425-1005\")\n"
     ]
    }
   ],
   "source": [
    "metric = 'rmse'\n",
    "presets = 'best_quality'\n",
    "time_limit = 30 # in seconds\n",
    "save_path = f'models/{datetime.now().strftime(\"%Y%m%d-%H%M\")}'\n",
    "verbosity = 2\n",
    "\n",
    "predictor = TabularPredictor(label=label, eval_metric=metric, path=save_path)\n",
    "predictor = predictor.fit(\n",
    "    train_dataset, time_limit=time_limit, presets=presets, verbosity=verbosity,\n",
    "    dynamic_stacking=False, hyperparameters=hyperparameters,\n",
    "    hyperparameter_tune_kwargs=hyperparameter_tune_kwargs,\n",
    ")"
   ]
  },
  {
   "cell_type": "markdown",
   "id": "310e59d7-3f97-4c56-a161-c7aee9d2f96f",
   "metadata": {},
   "source": [
    "## 4 Model Performance"
   ]
  },
  {
   "cell_type": "code",
   "execution_count": 29,
   "id": "929d508d-baee-40ac-b700-4f169a804c53",
   "metadata": {
    "execution": {
     "iopub.execute_input": "2025-04-25T02:05:52.583469Z",
     "iopub.status.busy": "2025-04-25T02:05:52.582630Z",
     "iopub.status.idle": "2025-04-25T02:05:53.061203Z",
     "shell.execute_reply": "2025-04-25T02:05:53.060555Z",
     "shell.execute_reply.started": "2025-04-25T02:05:52.583358Z"
    }
   },
   "outputs": [
    {
     "data": {
      "text/plain": [
       "0      11.512443\n",
       "5      27.610825\n",
       "7      18.173141\n",
       "10     40.906746\n",
       "22     29.951815\n",
       "         ...    \n",
       "694    15.731112\n",
       "696    47.960033\n",
       "705     8.671460\n",
       "707    14.283507\n",
       "712    47.574890\n",
       "Name: Fare, Length: 143, dtype: float32"
      ]
     },
     "execution_count": 29,
     "metadata": {},
     "output_type": "execute_result"
    }
   ],
   "source": [
    "predictor.predict(test_dataset)"
   ]
  },
  {
   "cell_type": "code",
   "execution_count": 30,
   "id": "c3a010a9-e3e4-4281-ba68-5bed10e81e0b",
   "metadata": {
    "execution": {
     "iopub.execute_input": "2025-04-25T02:05:57.010441Z",
     "iopub.status.busy": "2025-04-25T02:05:57.007720Z",
     "iopub.status.idle": "2025-04-25T02:05:57.115423Z",
     "shell.execute_reply": "2025-04-25T02:05:57.114788Z",
     "shell.execute_reply.started": "2025-04-25T02:05:57.010332Z"
    }
   },
   "outputs": [
    {
     "data": {
      "text/plain": [
       "{'root_mean_squared_error': -6.2819366910350585,\n",
       " 'mean_squared_error': -39.462728590172496,\n",
       " 'mean_absolute_error': -3.951785368043059,\n",
       " 'r2': 0.839611170134093,\n",
       " 'pearsonr': 0.9176679338220373,\n",
       " 'median_absolute_error': -2.039966583251953}"
      ]
     },
     "execution_count": 30,
     "metadata": {},
     "output_type": "execute_result"
    }
   ],
   "source": [
    "predictor.evaluate(test_dataset)"
   ]
  },
  {
   "cell_type": "code",
   "execution_count": 31,
   "id": "0c5092cd-8177-4bf0-865b-b1af757e565a",
   "metadata": {
    "execution": {
     "iopub.execute_input": "2025-04-25T02:06:09.975194Z",
     "iopub.status.busy": "2025-04-25T02:06:09.973488Z",
     "iopub.status.idle": "2025-04-25T02:06:10.256221Z",
     "shell.execute_reply": "2025-04-25T02:06:10.254234Z",
     "shell.execute_reply.started": "2025-04-25T02:06:09.975111Z"
    }
   },
   "outputs": [
    {
     "data": {
      "text/html": [
       "<div>\n",
       "<style scoped>\n",
       "    .dataframe tbody tr th:only-of-type {\n",
       "        vertical-align: middle;\n",
       "    }\n",
       "\n",
       "    .dataframe tbody tr th {\n",
       "        vertical-align: top;\n",
       "    }\n",
       "\n",
       "    .dataframe thead th {\n",
       "        text-align: right;\n",
       "    }\n",
       "</style>\n",
       "<table border=\"1\" class=\"dataframe\">\n",
       "  <thead>\n",
       "    <tr style=\"text-align: right;\">\n",
       "      <th></th>\n",
       "      <th>model</th>\n",
       "      <th>score_test</th>\n",
       "      <th>score_val</th>\n",
       "      <th>eval_metric</th>\n",
       "      <th>pred_time_test</th>\n",
       "      <th>pred_time_val</th>\n",
       "      <th>fit_time</th>\n",
       "      <th>pred_time_test_marginal</th>\n",
       "      <th>pred_time_val_marginal</th>\n",
       "      <th>fit_time_marginal</th>\n",
       "      <th>stack_level</th>\n",
       "      <th>can_infer</th>\n",
       "      <th>fit_order</th>\n",
       "    </tr>\n",
       "  </thead>\n",
       "  <tbody>\n",
       "    <tr>\n",
       "      <th>0</th>\n",
       "      <td>LightGBM_BAG_L1/T1</td>\n",
       "      <td>-6.198317</td>\n",
       "      <td>-7.464360</td>\n",
       "      <td>root_mean_squared_error</td>\n",
       "      <td>0.062747</td>\n",
       "      <td>0.028695</td>\n",
       "      <td>3.303470</td>\n",
       "      <td>0.062747</td>\n",
       "      <td>0.028695</td>\n",
       "      <td>3.303470</td>\n",
       "      <td>1</td>\n",
       "      <td>True</td>\n",
       "      <td>1</td>\n",
       "    </tr>\n",
       "    <tr>\n",
       "      <th>1</th>\n",
       "      <td>LightGBM_BAG_L1/T2</td>\n",
       "      <td>-6.281937</td>\n",
       "      <td>-7.398975</td>\n",
       "      <td>root_mean_squared_error</td>\n",
       "      <td>0.037366</td>\n",
       "      <td>0.025535</td>\n",
       "      <td>3.188992</td>\n",
       "      <td>0.037366</td>\n",
       "      <td>0.025535</td>\n",
       "      <td>3.188992</td>\n",
       "      <td>1</td>\n",
       "      <td>True</td>\n",
       "      <td>2</td>\n",
       "    </tr>\n",
       "    <tr>\n",
       "      <th>2</th>\n",
       "      <td>WeightedEnsemble_L2</td>\n",
       "      <td>-6.281937</td>\n",
       "      <td>-7.398975</td>\n",
       "      <td>root_mean_squared_error</td>\n",
       "      <td>0.040894</td>\n",
       "      <td>0.026236</td>\n",
       "      <td>3.193206</td>\n",
       "      <td>0.003527</td>\n",
       "      <td>0.000701</td>\n",
       "      <td>0.004214</td>\n",
       "      <td>2</td>\n",
       "      <td>True</td>\n",
       "      <td>5</td>\n",
       "    </tr>\n",
       "    <tr>\n",
       "      <th>3</th>\n",
       "      <td>LightGBM_BAG_L1/T3</td>\n",
       "      <td>-6.357021</td>\n",
       "      <td>-8.033043</td>\n",
       "      <td>root_mean_squared_error</td>\n",
       "      <td>0.037823</td>\n",
       "      <td>0.023102</td>\n",
       "      <td>3.364038</td>\n",
       "      <td>0.037823</td>\n",
       "      <td>0.023102</td>\n",
       "      <td>3.364038</td>\n",
       "      <td>1</td>\n",
       "      <td>True</td>\n",
       "      <td>3</td>\n",
       "    </tr>\n",
       "    <tr>\n",
       "      <th>4</th>\n",
       "      <td>LightGBM_BAG_L1/T4</td>\n",
       "      <td>-9.999238</td>\n",
       "      <td>-11.200052</td>\n",
       "      <td>root_mean_squared_error</td>\n",
       "      <td>0.093568</td>\n",
       "      <td>0.025567</td>\n",
       "      <td>3.283561</td>\n",
       "      <td>0.093568</td>\n",
       "      <td>0.025567</td>\n",
       "      <td>3.283561</td>\n",
       "      <td>1</td>\n",
       "      <td>True</td>\n",
       "      <td>4</td>\n",
       "    </tr>\n",
       "  </tbody>\n",
       "</table>\n",
       "</div>"
      ],
      "text/plain": [
       "                 model  score_test  score_val              eval_metric  \\\n",
       "0   LightGBM_BAG_L1/T1   -6.198317  -7.464360  root_mean_squared_error   \n",
       "1   LightGBM_BAG_L1/T2   -6.281937  -7.398975  root_mean_squared_error   \n",
       "2  WeightedEnsemble_L2   -6.281937  -7.398975  root_mean_squared_error   \n",
       "3   LightGBM_BAG_L1/T3   -6.357021  -8.033043  root_mean_squared_error   \n",
       "4   LightGBM_BAG_L1/T4   -9.999238 -11.200052  root_mean_squared_error   \n",
       "\n",
       "   pred_time_test  pred_time_val  fit_time  pred_time_test_marginal  \\\n",
       "0        0.062747       0.028695  3.303470                 0.062747   \n",
       "1        0.037366       0.025535  3.188992                 0.037366   \n",
       "2        0.040894       0.026236  3.193206                 0.003527   \n",
       "3        0.037823       0.023102  3.364038                 0.037823   \n",
       "4        0.093568       0.025567  3.283561                 0.093568   \n",
       "\n",
       "   pred_time_val_marginal  fit_time_marginal  stack_level  can_infer  \\\n",
       "0                0.028695           3.303470            1       True   \n",
       "1                0.025535           3.188992            1       True   \n",
       "2                0.000701           0.004214            2       True   \n",
       "3                0.023102           3.364038            1       True   \n",
       "4                0.025567           3.283561            1       True   \n",
       "\n",
       "   fit_order  \n",
       "0          1  \n",
       "1          2  \n",
       "2          5  \n",
       "3          3  \n",
       "4          4  "
      ]
     },
     "execution_count": 31,
     "metadata": {},
     "output_type": "execute_result"
    }
   ],
   "source": [
    "predictor.leaderboard(test_dataset)"
   ]
  },
  {
   "cell_type": "code",
   "execution_count": 32,
   "id": "6f4ac092-a306-4e50-ac16-7f145c7cf777",
   "metadata": {
    "execution": {
     "iopub.execute_input": "2025-04-25T02:07:55.642529Z",
     "iopub.status.busy": "2025-04-25T02:07:55.641606Z",
     "iopub.status.idle": "2025-04-25T02:07:55.654714Z",
     "shell.execute_reply": "2025-04-25T02:07:55.653108Z",
     "shell.execute_reply.started": "2025-04-25T02:07:55.642453Z"
    }
   },
   "outputs": [
    {
     "data": {
      "text/plain": [
       "'WeightedEnsemble_L2'"
      ]
     },
     "execution_count": 32,
     "metadata": {},
     "output_type": "execute_result"
    }
   ],
   "source": [
    "predictor.model_best"
   ]
  },
  {
   "cell_type": "code",
   "execution_count": 33,
   "id": "ac8105f6-a14d-4fda-a2e9-7ed27ec8569d",
   "metadata": {
    "execution": {
     "iopub.execute_input": "2025-04-25T02:08:15.187434Z",
     "iopub.status.busy": "2025-04-25T02:08:15.186606Z",
     "iopub.status.idle": "2025-04-25T02:08:15.200874Z",
     "shell.execute_reply": "2025-04-25T02:08:15.199321Z",
     "shell.execute_reply.started": "2025-04-25T02:08:15.187333Z"
    }
   },
   "outputs": [
    {
     "data": {
      "text/plain": [
       "['LightGBM_BAG_L1/T1',\n",
       " 'LightGBM_BAG_L1/T2',\n",
       " 'LightGBM_BAG_L1/T3',\n",
       " 'LightGBM_BAG_L1/T4',\n",
       " 'WeightedEnsemble_L2']"
      ]
     },
     "execution_count": 33,
     "metadata": {},
     "output_type": "execute_result"
    }
   ],
   "source": [
    "predictor.model_names()"
   ]
  },
  {
   "cell_type": "code",
   "execution_count": 35,
   "id": "68d6c194-f3a9-4c52-8069-e4d1078fa359",
   "metadata": {
    "execution": {
     "iopub.execute_input": "2025-04-25T02:08:46.358309Z",
     "iopub.status.busy": "2025-04-25T02:08:46.356584Z",
     "iopub.status.idle": "2025-04-25T02:08:46.773449Z",
     "shell.execute_reply": "2025-04-25T02:08:46.772722Z",
     "shell.execute_reply.started": "2025-04-25T02:08:46.358232Z"
    }
   },
   "outputs": [
    {
     "data": {
      "text/plain": [
       "{'root_mean_squared_error': -9.999238090608905,\n",
       " 'mean_squared_error': -99.98476239268403,\n",
       " 'mean_absolute_error': -8.65021348319954,\n",
       " 'r2': 0.5936307595167931,\n",
       " 'pearsonr': 0.9179633960924988,\n",
       " 'median_absolute_error': -8.356958026123046}"
      ]
     },
     "execution_count": 35,
     "metadata": {},
     "output_type": "execute_result"
    }
   ],
   "source": [
    "predictor.evaluate(model='LightGBM_BAG_L1/T4', data=test_dataset)"
   ]
  }
 ],
 "metadata": {
  "kernelspec": {
   "display_name": "Python [conda env:insta-ml]",
   "language": "python",
   "name": "conda-env-insta-ml-py"
  },
  "language_info": {
   "codemirror_mode": {
    "name": "ipython",
    "version": 3
   },
   "file_extension": ".py",
   "mimetype": "text/x-python",
   "name": "python",
   "nbconvert_exporter": "python",
   "pygments_lexer": "ipython3",
   "version": "3.10.17"
  }
 },
 "nbformat": 4,
 "nbformat_minor": 5
}
