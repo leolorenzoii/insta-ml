{
 "cells": [
  {
   "cell_type": "markdown",
   "id": "994c3dbb-ed5c-4f57-92eb-2cf1d5b0fde5",
   "metadata": {},
   "source": [
    "# Business Understanding"
   ]
  },
  {
   "cell_type": "markdown",
   "id": "828e7522-cd74-479a-8991-a3d4ca68e670",
   "metadata": {},
   "source": [
    "The goal here is to obtain essential information about the business operations, objectives, resources, and challenges that determines the successful planning, implementation, execution of the data science project. You can use these questions as to guide the stakeholder to flesh out the insight needed to determine the data science project with the highest impact in their current business process."
   ]
  },
  {
   "cell_type": "markdown",
   "id": "712fe55a-4baa-43aa-a90d-dba99bd71c99",
   "metadata": {},
   "source": [
    "## Project Goals and Objectives\n",
    "1. What are the primary objectives of this data science project?\n",
    "2. What specific problems or challenges are you aiming to address with this project?\n",
    "3. How will success be measured for this project?\n",
    "\n",
    "## Data\n",
    "1. What types of data will be provided for this project? (e.g., transaction data, customer data, credit scores)\n",
    "2. How much data will be available, and over what time period?\n",
    "3. Are there any data privacy or security concerns we should be aware of?\n",
    "4. Will we have access to raw data, or will it be pre-processed in any way?\n",
    "\n",
    "## Technical and Analytical Requirements\n",
    "1. What specific data science techniques or methodologies do you envision using for this project? (e.g., machine learning, statistical analysis, predictive modeling)\n",
    "2. Are there any preferred tools or technologies you would like us to use?\n",
    "3. Do you have any specific requirements or constraints for the models or algorithms to be developed?\n",
    "\n",
    "## Collaboration and Communication\n",
    "1. How will the collaboration between our teams be structured?\n",
    "2. Who will be the primary points of contact on your side?\n",
    "3. How frequently do you expect progress updates and meetings?\n",
    "4. Are there any preferred communication channels or project management tools you would like us to use?\n",
    "\n",
    "## Timeline and Deliverables\n",
    "1. What is the expected timeline for the project?\n",
    "2. Are there any critical milestones or deadlines we need to be aware of?\n",
    "3. What deliverables do you expect at each stage of the project?\n",
    "\n",
    "## Resources and Support\n",
    "1. What resources will your company provide to support this project? (e.g., data access, technical support, domain expertise)\n",
    "2. Are there any specific training or onboarding sessions required for our team?\n",
    "\n",
    "## Legal and Ethical Considerations\n",
    "1. Are there any legal or compliance requirements we need to consider?\n",
    "2. How will intellectual property and data ownership be handled?\n",
    "\n",
    "## Post-Project\n",
    "1. How do you plan to implement and utilize the results of this project?\n",
    "2. Will there be opportunities for further collaboration or follow-up projects?\n",
    "\n",
    "## Budget and Funding\n",
    "1. What is the budget allocated for this project?\n",
    "2. Are there any funding constraints or considerations we should be aware of?"
   ]
  }
 ],
 "metadata": {
  "kernelspec": {
   "display_name": "Python [conda env:insta-ml]",
   "language": "python",
   "name": "conda-env-insta-ml-py"
  },
  "language_info": {
   "codemirror_mode": {
    "name": "ipython",
    "version": 3
   },
   "file_extension": ".py",
   "mimetype": "text/x-python",
   "name": "python",
   "nbconvert_exporter": "python",
   "pygments_lexer": "ipython3",
   "version": "3.10.17"
  }
 },
 "nbformat": 4,
 "nbformat_minor": 5
}
