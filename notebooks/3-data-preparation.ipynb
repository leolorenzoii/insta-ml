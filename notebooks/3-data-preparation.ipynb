{
 "cells": [
  {
   "cell_type": "code",
   "execution_count": 1,
   "id": "8dd50d62-459c-43de-9cfc-6029727be842",
   "metadata": {
    "execution": {
     "iopub.execute_input": "2025-04-25T00:15:10.201911Z",
     "iopub.status.busy": "2025-04-25T00:15:10.201110Z",
     "iopub.status.idle": "2025-04-25T00:15:12.363699Z",
     "shell.execute_reply": "2025-04-25T00:15:12.362798Z",
     "shell.execute_reply.started": "2025-04-25T00:15:10.201836Z"
    }
   },
   "outputs": [],
   "source": [
    "import os\n",
    "import sys\n",
    "\n",
    "import yaml\n",
    "import pandas as pd\n",
    "\n",
    "\n",
    "os.chdir('..')\n",
    "sys.path.append(os.getcwd())\n",
    "\n",
    "# Initial configurations\n",
    "config_filepath = 'config.yml'\n",
    "\n",
    "with open(config_filepath, 'r') as f:\n",
    "    config = yaml.safe_load(f)"
   ]
  },
  {
   "cell_type": "code",
   "execution_count": 2,
   "id": "e5b1d3e0-8f92-4cd4-a105-46c6fb4338fb",
   "metadata": {
    "execution": {
     "iopub.execute_input": "2025-04-25T00:15:12.365597Z",
     "iopub.status.busy": "2025-04-25T00:15:12.364997Z",
     "iopub.status.idle": "2025-04-25T00:15:12.392107Z",
     "shell.execute_reply": "2025-04-25T00:15:12.390247Z",
     "shell.execute_reply.started": "2025-04-25T00:15:12.365568Z"
    }
   },
   "outputs": [],
   "source": [
    "data = pd.read_csv(config['filepaths']['data'])"
   ]
  },
  {
   "cell_type": "markdown",
   "id": "e04b6fab-955d-47a5-aff2-b9c5ff906df5",
   "metadata": {},
   "source": [
    "# Data Preparation"
   ]
  },
  {
   "cell_type": "code",
   "execution_count": 3,
   "id": "55163b0e-a024-43b5-98ce-74bfe67a2a2c",
   "metadata": {
    "execution": {
     "iopub.execute_input": "2025-04-25T00:15:12.393840Z",
     "iopub.status.busy": "2025-04-25T00:15:12.393377Z",
     "iopub.status.idle": "2025-04-25T00:15:12.408760Z",
     "shell.execute_reply": "2025-04-25T00:15:12.406858Z",
     "shell.execute_reply.started": "2025-04-25T00:15:12.393796Z"
    }
   },
   "outputs": [],
   "source": [
    "abt = data.copy()\n",
    "\n",
    "# Carry-over from data consistency pipeline\n",
    "abt.loc[:, 'Age'] = data.loc[:, 'Age'].round()\n",
    "data_types = {\n",
    "    'Age': pd.Int64Dtype(),\n",
    "}\n",
    "abt = abt.astype(data_types, copy=True)"
   ]
  },
  {
   "cell_type": "markdown",
   "id": "3e4f4381-4928-49c4-ab43-228fe36acaf1",
   "metadata": {},
   "source": [
    "## 1 Features to Use"
   ]
  },
  {
   "cell_type": "code",
   "execution_count": 4,
   "id": "b94a236a-e0ed-4c11-a563-ece3a5421e59",
   "metadata": {
    "execution": {
     "iopub.execute_input": "2025-04-25T00:15:12.681752Z",
     "iopub.status.busy": "2025-04-25T00:15:12.680897Z",
     "iopub.status.idle": "2025-04-25T00:15:12.691622Z",
     "shell.execute_reply": "2025-04-25T00:15:12.689051Z",
     "shell.execute_reply.started": "2025-04-25T00:15:12.681679Z"
    }
   },
   "outputs": [],
   "source": [
    "numerical_cols = ['Age', 'SibSp', 'Parch', 'Fare']\n",
    "categorical_cols = ['Survived', 'Pclass', 'Sex', 'Embarked']"
   ]
  },
  {
   "cell_type": "code",
   "execution_count": 5,
   "id": "8a6318af-1bdc-4509-8fcb-7d0410e5f0a1",
   "metadata": {
    "execution": {
     "iopub.execute_input": "2025-04-25T00:15:13.116202Z",
     "iopub.status.busy": "2025-04-25T00:15:13.115342Z",
     "iopub.status.idle": "2025-04-25T00:15:13.128495Z",
     "shell.execute_reply": "2025-04-25T00:15:13.126547Z",
     "shell.execute_reply.started": "2025-04-25T00:15:13.116131Z"
    }
   },
   "outputs": [],
   "source": [
    "abt = abt.loc[:, numerical_cols + categorical_cols]"
   ]
  },
  {
   "cell_type": "markdown",
   "id": "2461f4bb-e632-405c-b2fe-9b6931ad286f",
   "metadata": {},
   "source": [
    "## 2 Handling Missing Values"
   ]
  },
  {
   "cell_type": "markdown",
   "id": "01fef4b0-8150-4aa4-b9c4-0044962a1604",
   "metadata": {},
   "source": [
    "### Dropping Rows"
   ]
  },
  {
   "cell_type": "code",
   "execution_count": 6,
   "id": "6567c6e1-43a6-44f7-a171-3e1d7509ce89",
   "metadata": {
    "execution": {
     "iopub.execute_input": "2025-04-25T00:15:14.341205Z",
     "iopub.status.busy": "2025-04-25T00:15:14.340371Z",
     "iopub.status.idle": "2025-04-25T00:15:14.355714Z",
     "shell.execute_reply": "2025-04-25T00:15:14.353946Z",
     "shell.execute_reply.started": "2025-04-25T00:15:14.341132Z"
    }
   },
   "outputs": [],
   "source": [
    "abt = abt.dropna(subset=['Age'])"
   ]
  },
  {
   "cell_type": "code",
   "execution_count": 7,
   "id": "17f7648d-fccb-48d0-9265-e1fa2597567d",
   "metadata": {
    "execution": {
     "iopub.execute_input": "2025-04-25T00:15:14.564598Z",
     "iopub.status.busy": "2025-04-25T00:15:14.563745Z",
     "iopub.status.idle": "2025-04-25T00:15:14.589991Z",
     "shell.execute_reply": "2025-04-25T00:15:14.588195Z",
     "shell.execute_reply.started": "2025-04-25T00:15:14.564524Z"
    }
   },
   "outputs": [
    {
     "data": {
      "text/plain": [
       "Age         0\n",
       "SibSp       0\n",
       "Parch       0\n",
       "Fare        0\n",
       "Survived    0\n",
       "Pclass      0\n",
       "Sex         0\n",
       "Embarked    2\n",
       "dtype: int64"
      ]
     },
     "execution_count": 7,
     "metadata": {},
     "output_type": "execute_result"
    }
   ],
   "source": [
    "abt.isnull().sum()"
   ]
  },
  {
   "cell_type": "markdown",
   "id": "e66c04bd-beda-401c-a386-9d16f6deeba1",
   "metadata": {},
   "source": [
    "### Imputing Missing Values"
   ]
  },
  {
   "cell_type": "code",
   "execution_count": 8,
   "id": "462dae05-98da-495f-ae83-976519da8aa5",
   "metadata": {
    "execution": {
     "iopub.execute_input": "2025-04-25T00:15:15.120841Z",
     "iopub.status.busy": "2025-04-25T00:15:15.120022Z",
     "iopub.status.idle": "2025-04-25T00:15:15.133137Z",
     "shell.execute_reply": "2025-04-25T00:15:15.131117Z",
     "shell.execute_reply.started": "2025-04-25T00:15:15.120768Z"
    }
   },
   "outputs": [],
   "source": [
    "abt.loc[:, 'Embarked'] = abt.Embarked.fillna(abt.Embarked.mode().iloc[0])"
   ]
  },
  {
   "cell_type": "code",
   "execution_count": 9,
   "id": "b38fd1d0-409f-4de7-90a6-f1d9573fbdb4",
   "metadata": {
    "execution": {
     "iopub.execute_input": "2025-04-25T00:15:15.610831Z",
     "iopub.status.busy": "2025-04-25T00:15:15.610169Z",
     "iopub.status.idle": "2025-04-25T00:15:15.624605Z",
     "shell.execute_reply": "2025-04-25T00:15:15.623211Z",
     "shell.execute_reply.started": "2025-04-25T00:15:15.610774Z"
    }
   },
   "outputs": [
    {
     "data": {
      "text/plain": [
       "Age         0\n",
       "SibSp       0\n",
       "Parch       0\n",
       "Fare        0\n",
       "Survived    0\n",
       "Pclass      0\n",
       "Sex         0\n",
       "Embarked    0\n",
       "dtype: int64"
      ]
     },
     "execution_count": 9,
     "metadata": {},
     "output_type": "execute_result"
    }
   ],
   "source": [
    "abt.isnull().sum()"
   ]
  },
  {
   "cell_type": "markdown",
   "id": "8c754b84-1dac-4800-96ed-3c52692ba836",
   "metadata": {},
   "source": [
    "## 3 Handling Outliers"
   ]
  },
  {
   "cell_type": "code",
   "execution_count": 10,
   "id": "d043ef8f-ccfe-4fb7-b8e0-a512fa0f7f34",
   "metadata": {
    "execution": {
     "iopub.execute_input": "2025-04-25T00:15:16.615611Z",
     "iopub.status.busy": "2025-04-25T00:15:16.614812Z",
     "iopub.status.idle": "2025-04-25T00:15:16.626241Z",
     "shell.execute_reply": "2025-04-25T00:15:16.624212Z",
     "shell.execute_reply.started": "2025-04-25T00:15:16.615538Z"
    }
   },
   "outputs": [],
   "source": [
    "abt.loc[abt.Fare > 50, 'Fare'] = 50"
   ]
  },
  {
   "cell_type": "markdown",
   "id": "8754e573-0944-42dc-94c8-283151884885",
   "metadata": {},
   "source": [
    "## 4 Normalization"
   ]
  },
  {
   "cell_type": "code",
   "execution_count": 20,
   "id": "933ed120-3663-422a-bce5-80f52e892081",
   "metadata": {
    "execution": {
     "iopub.execute_input": "2025-04-25T00:19:29.339488Z",
     "iopub.status.busy": "2025-04-25T00:19:29.338668Z",
     "iopub.status.idle": "2025-04-25T00:19:29.353325Z",
     "shell.execute_reply": "2025-04-25T00:19:29.351456Z",
     "shell.execute_reply.started": "2025-04-25T00:19:29.339384Z"
    }
   },
   "outputs": [],
   "source": []
  },
  {
   "cell_type": "markdown",
   "id": "f0a939a6-02cd-4935-afa5-5a298c952f00",
   "metadata": {},
   "source": [
    "## 5 Saving the Analytics Base Table (ABT) and Scalers"
   ]
  },
  {
   "cell_type": "code",
   "execution_count": 31,
   "id": "c48c20db-15fa-4bd7-91e0-ac600e245efd",
   "metadata": {
    "execution": {
     "iopub.execute_input": "2025-04-24T17:43:42.037307Z",
     "iopub.status.busy": "2025-04-24T17:43:42.036546Z",
     "iopub.status.idle": "2025-04-24T17:43:42.081243Z",
     "shell.execute_reply": "2025-04-24T17:43:42.079339Z",
     "shell.execute_reply.started": "2025-04-24T17:43:42.037238Z"
    }
   },
   "outputs": [],
   "source": [
    "abt.to_csv('data/abt.csv', index=False)"
   ]
  }
 ],
 "metadata": {
  "kernelspec": {
   "display_name": "Python [conda env:insta-ml]",
   "language": "python",
   "name": "conda-env-insta-ml-py"
  },
  "language_info": {
   "codemirror_mode": {
    "name": "ipython",
    "version": 3
   },
   "file_extension": ".py",
   "mimetype": "text/x-python",
   "name": "python",
   "nbconvert_exporter": "python",
   "pygments_lexer": "ipython3",
   "version": "3.10.17"
  }
 },
 "nbformat": 4,
 "nbformat_minor": 5
}
